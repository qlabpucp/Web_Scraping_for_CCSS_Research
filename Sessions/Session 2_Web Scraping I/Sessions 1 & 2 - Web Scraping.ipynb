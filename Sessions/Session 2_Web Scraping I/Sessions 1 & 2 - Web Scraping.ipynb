{
 "cells": [
  {
   "cell_type": "markdown",
   "id": "4effcb1d-21bb-43cf-b5d5-0b3203edb8e6",
   "metadata": {},
   "source": [
    "# 1. About the process of Web Scraping"
   ]
  },
  {
   "cell_type": "markdown",
   "id": "26f0992e-4177-4ee2-aa73-99d58a4360a1",
   "metadata": {},
   "source": [
    "Web scraping is the process of extracting data from websites. It allows analysts to automatically collect large volumes of data, which can then be processed and analyzed. This data is essential for deploying statistical models, deriving insights, and informing decision-making processes. Web scraping integrates in this context as follows:"
   ]
  },
  {
   "cell_type": "markdown",
   "id": "6c9cfbcf-94a4-4d28-9bca-23b194da6ebd",
   "metadata": {},
   "source": [
    "1. **Identification of Data Sources:**\n",
    "   Determine the web sources that contain relevant and valuable data for the model.\n",
    "\n",
    "2. **Web Scraping for Data Collection:**\n",
    "   Programmatically extract data from identified websites, focusing on data that can provide meaningful features for the model.\n",
    "\n",
    "3. **Data Cleaning and Transformation:**\n",
    "   Clean the extracted data to remove noise and irrelevant information. Transform the data into a structured format suitable for modeling. Perform feature engineering to enhance the dataset and improve model performance.\n",
    "\n",
    "4. **Data Integration:**\n",
    "   Integrate scraped data with other relevant datasets to create a comprehensive dataset for modeling.\n",
    "\n",
    "5. **Model Development and Training:**\n",
    "   Use statistical techniques and machine learning algorithms to develop models based on the prepared dataset. Train models with a focus on predictive accuracy, generalization, and adherence to econometric principles.\n",
    "\n",
    "6. **Model Evaluation and Validation:**\n",
    "   Evaluate the model using appropriate metrics to ensure its reliability and validity in real-world scenarios. Perform validation techniques like cross-validation to test the model's robustness.\n",
    "\n",
    "7. **Model Deployment and Application:**\n",
    "   Deploy the model for practical use, such as forecasting, trend analysis, or decision support. Continuously monitor and update the model with new data to maintain its accuacy and relevance.\n",
    "date the model with new data to maintain itsaccuracy and relevance.\n"
   ]
  },
  {
   "cell_type": "markdown",
   "id": "ede04811-bb8b-4eee-81dd-a3a5fd4541bd",
   "metadata": {},
   "source": [
    "The web scraping process encompasses the following steps:"
   ]
  },
  {
   "cell_type": "markdown",
   "id": "42fb0527-86c1-41c7-98da-4373e6df017f",
   "metadata": {},
   "source": [
    "| Step | Description |\n",
    "|------|-------------|\n",
    "| 1. Identification of the website | Involves knowing the required information and verifying that the selected website contains this information. |\n",
    "| 2. Inspection of the structure | Entails exploring and inspecting the structure and organization of the website's HTML code. |\n",
    "| 3. Selection of the tool | Involves choosing a tool to carry out the web scraping process. In Python, popular tools include BeautifulSoup and Selenium. |\n",
    "| 4. Writing the code | Using the selected tool, instructions are written to access and download information from the web page. |\n",
    "| 5. Testing | Although the first script may seem functional, errors and unforeseen issues often arise, necessitating iterative testing and troubleshooting to reach the most effective solution. |\n",
    "| 6. Data extraction | Once the final version of the script is written, it involves executing it to completion for data extraction. |\n",
    "| 7. Data storage or Processing | Involves organizing and processing the information so that it is ready for use. |\n"
   ]
  },
  {
   "cell_type": "markdown",
   "id": "3c24b700-6e8e-415b-ba61-ab030d5fa6f3",
   "metadata": {},
   "source": [
    "# 2. Foundamentals of HTML and CSS"
   ]
  },
  {
   "cell_type": "markdown",
   "id": "ac1e9ea1-ea73-4413-81c6-3c516eb9d0c2",
   "metadata": {},
   "source": [
    "Web scraping involves extracting data from websites, and most of the web's content is structured using HTML and styled using CSS. Understanding these languages enables us to identify and select the specific data we need efficiently.\n",
    "\n",
    "**HTML (HyperText Markup Language)**:\n",
    "   - HTML is the standard markup language for creating web pages. It structures web content and lays the foundation for data extraction.\n",
    "\n",
    "**CSS (Cascading Style Sheets)**:\n",
    "   - CSS is used for designing and customizing the appearance of web pages. CSS selectors are vital in web scraping for pinpointing specific elements from which data will be scraped."
   ]
  },
  {
   "cell_type": "markdown",
   "id": "744a4a5c-df5e-4109-b0be-14b90f11b6a8",
   "metadata": {},
   "source": [
    "## 2.1. HTML common structures"
   ]
  },
  {
   "cell_type": "code",
   "execution_count": 10,
   "id": "09fbb5aa-a69b-4e79-8498-909653dab089",
   "metadata": {},
   "outputs": [],
   "source": [
    "from IPython.core.display import HTML"
   ]
  },
  {
   "cell_type": "markdown",
   "id": "e7067a8c-e90c-430d-8d5f-521cf715b0b0",
   "metadata": {},
   "source": [
    "### 2.1.1. Tables (`<table>`, `<tr>`, `<td>`, `<th>` )"
   ]
  },
  {
   "cell_type": "markdown",
   "id": "9ef90db0-1610-42d4-b53c-3135fea6f49c",
   "metadata": {},
   "source": [
    "Tables often hold structured data, ideal for scraping."
   ]
  },
  {
   "cell_type": "code",
   "execution_count": 2,
   "id": "73535e85-7250-4ee0-93c1-b9a0b0b6bdb1",
   "metadata": {},
   "outputs": [
    {
     "data": {
      "text/html": [
       "\n",
       "<table>\n",
       "    <tr>\n",
       "        <th>Name</th>\n",
       "        <th>Email</th>\n",
       "    </tr>\n",
       "    <tr>\n",
       "        <td>John Doe</td>\n",
       "        <td>johndoe@example.com</td>\n",
       "    </tr>\n",
       "    <tr>\n",
       "        <td>Jane Smith</td>\n",
       "        <td>janesmith@example.com</td>\n",
       "    </tr>\n",
       "</table>\n"
      ],
      "text/plain": [
       "<IPython.core.display.HTML object>"
      ]
     },
     "execution_count": 2,
     "metadata": {},
     "output_type": "execute_result"
    }
   ],
   "source": [
    "tables = \"\"\"\n",
    "<table>\n",
    "    <tr>\n",
    "        <th>Name</th>\n",
    "        <th>Email</th>\n",
    "    </tr>\n",
    "    <tr>\n",
    "        <td>John Doe</td>\n",
    "        <td>johndoe@example.com</td>\n",
    "    </tr>\n",
    "    <tr>\n",
    "        <td>Jane Smith</td>\n",
    "        <td>janesmith@example.com</td>\n",
    "    </tr>\n",
    "</table>\n",
    "\"\"\"\n",
    "\n",
    "HTML( tables )"
   ]
  },
  {
   "cell_type": "markdown",
   "id": "80ca212f-d73e-4956-ab04-2707d1a9bc4f",
   "metadata": {},
   "source": [
    "### 2.1.2. Lists( `<ul>`, `<ol>`, `<li>` )"
   ]
  },
  {
   "cell_type": "markdown",
   "id": "675bde8c-42f0-4c3d-baa3-40fddbc7cfa5",
   "metadata": {},
   "source": [
    "Lists are used for grouping similar items, often found in menus or summary sections."
   ]
  },
  {
   "cell_type": "code",
   "execution_count": 3,
   "id": "0d418db5-0f96-48ab-8cd8-20640d0752f9",
   "metadata": {},
   "outputs": [
    {
     "data": {
      "text/html": [
       "\n",
       "<ul>\n",
       "    <li>Home</li>\n",
       "    <li>About</li>\n",
       "    <li>Contact</li>\n",
       "</ul>\n"
      ],
      "text/plain": [
       "<IPython.core.display.HTML object>"
      ]
     },
     "execution_count": 3,
     "metadata": {},
     "output_type": "execute_result"
    }
   ],
   "source": [
    "lists = \"\"\"\n",
    "<ul>\n",
    "    <li>Home</li>\n",
    "    <li>About</li>\n",
    "    <li>Contact</li>\n",
    "</ul>\n",
    "\"\"\"\n",
    "\n",
    "HTML( lists )"
   ]
  },
  {
   "cell_type": "markdown",
   "id": "bd76ad9a-7ead-48e1-9d9c-82baf2ca3148",
   "metadata": {},
   "source": [
    "### 2.1.3. Divisions (`<div>`)"
   ]
  },
  {
   "cell_type": "markdown",
   "id": "8520efec-a402-4ef7-8053-0a1b2dd43d90",
   "metadata": {},
   "source": [
    "`<div>` elements are containers that divide the webpage into sections, often used for layout."
   ]
  },
  {
   "cell_type": "code",
   "execution_count": 4,
   "id": "0ae4d98b-6f0e-4fe8-858b-04f2efec4f96",
   "metadata": {},
   "outputs": [
    {
     "data": {
      "text/html": [
       "\n",
       "<div class=\"article\">\n",
       "    <h2>Article Title</h2>\n",
       "    <p>Article content...</p>\n",
       "</div>\n"
      ],
      "text/plain": [
       "<IPython.core.display.HTML object>"
      ]
     },
     "execution_count": 4,
     "metadata": {},
     "output_type": "execute_result"
    }
   ],
   "source": [
    "divissions = \"\"\"\n",
    "<div class=\"article\">\n",
    "    <h2>Article Title</h2>\n",
    "    <p>Article content...</p>\n",
    "</div>\n",
    "\"\"\"\n",
    "\n",
    "HTML( divissions )"
   ]
  },
  {
   "cell_type": "markdown",
   "id": "f77f3583-7738-40c9-8198-9f4b8c88379a",
   "metadata": {},
   "source": [
    "### 2.1.4. Anchors  (`<a>`)"
   ]
  },
  {
   "cell_type": "markdown",
   "id": "4b5a08f9-2dd7-426d-b5e7-7ae8573c9e0b",
   "metadata": {},
   "source": [
    "Anchor tags define hyperlinks and are crucial for navigating and extracting links."
   ]
  },
  {
   "cell_type": "code",
   "execution_count": 5,
   "id": "8d0aa489-174b-4238-910c-1eff039d67a6",
   "metadata": {},
   "outputs": [
    {
     "data": {
      "text/html": [
       "\n",
       "<a href=\"https://apps5.mineco.gob.pe/transparencia/Navegador/default.aspx?y=2023&ap=ActProy\">Consulta amigable</a>\n"
      ],
      "text/plain": [
       "<IPython.core.display.HTML object>"
      ]
     },
     "execution_count": 5,
     "metadata": {},
     "output_type": "execute_result"
    }
   ],
   "source": [
    "anchors = \"\"\"\n",
    "<a href=\"https://apps5.mineco.gob.pe/transparencia/Navegador/default.aspx?y=2023&ap=ActProy\">Consulta amigable</a>\n",
    "\"\"\"\n",
    "HTML( anchors )"
   ]
  },
  {
   "cell_type": "markdown",
   "id": "45795e5f-364e-4690-943f-138bd970a617",
   "metadata": {},
   "source": [
    "### 2.1.5. Tags summary"
   ]
  },
  {
   "cell_type": "markdown",
   "id": "08a33615-25c4-44c3-ad13-dce8bb12fe52",
   "metadata": {},
   "source": [
    "| Tag |\tDescripción |\n",
    "|---|---|\n",
    "|`<html>` |Define el comienzo y el final de un documento HTML |\n",
    "|`head` |Contiene información meta sobre el documento HTML |   \n",
    "|`<title>` |\tDefine el título del documento HTML |\n",
    "|`<body>` | Contiene el contenido visible del documento HTML |\n",
    "|`<span>` | Define una sección en línea o un fragmento de texto |\n",
    "|`<h1>` a `<h6>`|\tDefine encabezados HTML en orden de importancia |\n",
    "|`<p>` | Define un párrafo |\n",
    "| `<a>` | Crea un enlace a otra página |\n",
    "| `<img>` | Muestra una imagen en el documento |\n",
    "| `<table>` | Crea una tabla con filas y columnas |\n",
    "| `<tr>` | Define una fila en una tabla |\n",
    "| `<th>` | Define una celda de encabezado en una tabla |\n",
    "| `<td>` | Define una celda de datos en una tabla |\n",
    "| `<ul>` | Crea una lista desordenada |\n",
    "| `<ol>` | Crea una lista ordenada |\n",
    "| `<li>` | Define un elemento de lista |\n",
    "|`<input>`| Crea un campo de entrada en un formulario |\n",
    "| `<button>` | Crea un botón interactivo |\n",
    "| `<option>` |  Define una opción de menú desplegable |\n",
    "| `<label>` | Etiqueta para un elemento de formulario |\n",
    "| `<iframe>` or `<frame>` | Incrusta contenido de otro documento HTML dentro de la página |"
   ]
  },
  {
   "cell_type": "markdown",
   "id": "70a713d8-27f9-40bb-8779-4ebf660bbf8e",
   "metadata": {},
   "source": [
    "## 2.2. CCS common structures"
   ]
  },
  {
   "cell_type": "markdown",
   "id": "65a8c942-1926-4af9-9c69-7b25c6d688b4",
   "metadata": {},
   "source": [
    "### 2.2.1. Classes and IDs"
   ]
  },
  {
   "cell_type": "markdown",
   "id": "b374151a-b7d5-4e68-ba70-83ea1ace63a3",
   "metadata": {},
   "source": [
    "Classes and IDs uniquely identify or group elements, crucial for selecting specific items."
   ]
  },
  {
   "cell_type": "code",
   "execution_count": 7,
   "id": "abc94b73-5c96-4de2-9635-e9aa5d082cee",
   "metadata": {},
   "outputs": [
    {
     "data": {
      "text/html": [
       "\n",
       "<div class=\"user-profile\">\n",
       "    <span id=\"username\">JohnD</span>\n",
       "</div>\n"
      ],
      "text/plain": [
       "<IPython.core.display.HTML object>"
      ]
     },
     "execution_count": 7,
     "metadata": {},
     "output_type": "execute_result"
    }
   ],
   "source": [
    "classes = \"\"\"\n",
    "<div class=\"user-profile\">\n",
    "    <span id=\"username\">JohnD</span>\n",
    "</div>\n",
    "\"\"\"\n",
    "HTML( classes )"
   ]
  },
  {
   "cell_type": "markdown",
   "id": "dd6db64a-4850-42a8-89f5-77db5d610656",
   "metadata": {},
   "source": [
    "### 2.2.2. Pseudo-Classes (`:nth-child`, `:first-child`, `:last-child`):"
   ]
  },
  {
   "cell_type": "markdown",
   "id": "4b8cdb10-4e38-42c8-be69-80dc5a6dad8c",
   "metadata": {},
   "source": [
    "Pseudo-classes are used to target elements based on their state or position."
   ]
  },
  {
   "cell_type": "markdown",
   "id": "65e758f5-93b1-4f32-b0e5-5dfa8d5a8541",
   "metadata": {},
   "source": [
    "\n",
    "```\n",
    "li:first-child { font-weight: bold; }\n",
    "li:nth-child(2) { color: blue; }\n",
    "```"
   ]
  },
  {
   "cell_type": "markdown",
   "id": "07c5e34d-b26c-41f0-8b65-fc58f1423837",
   "metadata": {},
   "source": [
    "### 2.2.3. Attribute Selectors"
   ]
  },
  {
   "cell_type": "markdown",
   "id": "0e6d9044-6372-4d36-b084-c93577c25bcd",
   "metadata": {},
   "source": [
    "Attribute selectors target elements based on their attributes, like href in anchors."
   ]
  },
  {
   "cell_type": "markdown",
   "id": "226f0880-2d36-474e-a8c8-986e4a023b17",
   "metadata": {},
   "source": [
    "```\n",
    "a[href*=\"profile\"] { color: green; }\n",
    "```"
   ]
  },
  {
   "cell_type": "markdown",
   "id": "e0ff90f7-d3f4-4eaf-b6f9-b559752c7ab0",
   "metadata": {},
   "source": [
    "## 2.3. Full example"
   ]
  },
  {
   "cell_type": "code",
   "execution_count": 8,
   "id": "97de705c-de2a-4d80-a822-94a0276e8c86",
   "metadata": {},
   "outputs": [
    {
     "data": {
      "text/html": [
       "\n",
       "<!DOCTYPE html>\n",
       "<html>\n",
       "<head>\n",
       "    <link rel=\"stylesheet\" href=\"https://cdnjs.cloudflare.com/ajax/libs/font-awesome/6.0.0-beta3/css/all.min.css\">\n",
       "    <style>\n",
       "        body { font-family: Arial, sans-serif; }\n",
       "        .container { \n",
       "            width: 80%; \n",
       "            margin: auto;\n",
       "        }\n",
       "        .header-image { \n",
       "            width: 100%;\n",
       "            max-width: 1220px;\n",
       "            height: 200px;\n",
       "            background-image: url('https://drive.google.com/uc?export=view&id=1QYjJ5NNxcLieeDLYLlZoqkOLbuOn6foV'); \n",
       "            background-size: contain;\n",
       "            background-repeat: no-repeat;\n",
       "            background-position: center;\n",
       "            margin: auto;\n",
       "        }       \n",
       "        .news-title-center { \n",
       "            text-align: center;\n",
       "        }\n",
       "        .news-item { \n",
       "            display: flex; \n",
       "            align-items: flex-start; \n",
       "            margin-bottom: 20px; \n",
       "            border-bottom: 1px solid #FF6F61; /* Línea coral */\n",
       "            padding-bottom: 20px;\n",
       "        }\n",
       "        .news-image { width: 25%; height: auto; margin-right: 20px; }\n",
       "        .news-content { width: 75%; }\n",
       "        .news-title { \n",
       "            font-size: 18px; \n",
       "            font-weight: bold;\n",
       "            color: #0047AB; /* Azul cobalto */\n",
       "            text-align: justify;\n",
       "        }\n",
       "        .news-summary { \n",
       "            font-size: 14px; \n",
       "            margin-top: 10px;\n",
       "            text-align: justify;\n",
       "        }\n",
       "        .news-link { \n",
       "            text-decoration: none; \n",
       "            color: blue; \n",
       "            margin-top: 10px; \n",
       "            display: inline-block; \n",
       "            font-weight: bold;\n",
       "        }\n",
       "        .contact-section { \n",
       "            margin-top: 30px; \n",
       "            font-size: 14px; \n",
       "            background-color: #E0F7FA;\n",
       "            padding: 15px;\n",
       "            text-align: center;\n",
       "        }\n",
       "        .contact-detail { margin-top: 10px; }\n",
       "        .social-links { list-style: none; padding: 0; }\n",
       "        .social-links li { display: inline; margin-right: 10px; }\n",
       "        .social-links .fa-twitter { color: #1DA1F2; }\n",
       "        .social-links .fa-facebook { color: #3b5998; }\n",
       "        .social-links .fa-linkedin { color: #0077b5; }\n",
       "        .social-links .fa-youtube { color: #FF0000; }\n",
       "        .social-links .fa-instagram { color: #E4405F; }\n",
       "        .footer { \n",
       "            margin-top: 30px; \n",
       "            font-size: 12px; \n",
       "            text-align: center; \n",
       "            padding-top: 20px;\n",
       "            border-top: 1px solid #ddd;\n",
       "        }\n",
       "    </style>\n",
       "</head>\n",
       "<body>\n",
       "    <div class=\"container\">\n",
       "        <h1 class=\"news-title-center\">Boletín de Noticias</h1>\n",
       "        <h2 class='news-title-center'>Sección 1</h2>\n",
       "        <div class=\"news-item\">\n",
       "            <img src=\"http://a.files.bbci.co.uk/worldservice/live/assets/images/2014/09/22/140922074747_museo_britanico_144x81_getty_nocredit.jpg\" class=\"news-image\">\n",
       "            <div class=\"news-content\">\n",
       "                <div class=\"news-title\">Recrearán el Museo Británico en el video juego Minecraft</div>\n",
       "                <div class=\"news-summary\">El proyecto es parte del programa Futuro del museo, que tiene el objetivo de llegar a un público más amplio. Se espera que la primera etapa de construcción digital se complete para el 16 de octubre.</div>\n",
       "                <a href=\"http://www.bbc.co.uk/mundo/ultimas_noticias/2014/09/140922_ultnot_museo_britanico_minecraft_nc.shtml\" class=\"news-link\">Leer más</a>\n",
       "            </div>\n",
       "        </div>\n",
       "        \n",
       "        <div class=\"news-item\">\n",
       "            <img src=\"https://elcomercio.pe/resizer/HVHyfa9QmGL2em6SI76sK6PksK4=/cloudfront-us-east-1.images.arcpublishing.com/elcomercio/HBZ36MMTDFFGHEYGD2MFCQ2ONU.jpg\" class=\"news-image\">\n",
       "            <div class=\"news-content\">\n",
       "                <div class=\"news-title\">Línea 1 del Metro de Lima suspende servicios tras reportar fallas en el sistema</div>\n",
       "                <div class=\"news-summary\">El Metro de Lima recomendó a los pasajeros seguir las indicaciones del personal de estaciones.</div>\n",
       "                <a href=\"https://elcomercio.pe/lima/transporte/linea-1-del-metro-de-lima-suspende-servicios-tras-reportar-fallas-en-el-sistema-ultimas-noticia/\" class=\"news-link\">Leer más</a>\n",
       "            </div>\n",
       "        </div>\n",
       "        <h2 class='news-title-center'>Sección 2</h2>\n",
       "        <div class=\"news-item\">\n",
       "            <img src=\"http://a.files.bbci.co.uk/worldservice/live/assets/images/2014/09/23/140923122531_sp_siria_reuters_144.jpg\" class=\"news-image\">\n",
       "            <div class=\"news-content\">\n",
       "                <div class=\"news-title\">Boletín: Primer ataque de EE.UU. y aliados árabes contra Estado Islámico en Siria y otras noticias</div>\n",
       "                <div class=\"news-summary\">Además, Israel mata a dos palestinos que presuntamente asesinaron a tres jóvenes israelíes en junio, OMS advierte que para noviembre podría haber 20.000 casos de ébola, y arranca cumbre del clima de la ONU en Nueva York. La actualidad en 1 minuto.</div>\n",
       "                <a href=\"http://www.bbc.co.uk/mundo/video_fotos/2014/09/140923_video_boletin_noticias_re.shtml\" class=\"news-link\">Leer más</a>\n",
       "            </div>\n",
       "        </div>\n",
       "        \n",
       "    <div class=\"footer\">\n",
       "        Este boletín se genera automáticamente. Por favor, no responda a este correo electrónico.\n",
       "    </div>\n",
       "</body>\n",
       "</html>\n"
      ],
      "text/plain": [
       "<IPython.core.display.HTML object>"
      ]
     },
     "execution_count": 8,
     "metadata": {},
     "output_type": "execute_result"
    }
   ],
   "source": [
    "full_example = \"\"\"\n",
    "<!DOCTYPE html>\n",
    "<html>\n",
    "<head>\n",
    "    <link rel=\"stylesheet\" href=\"https://cdnjs.cloudflare.com/ajax/libs/font-awesome/6.0.0-beta3/css/all.min.css\">\n",
    "    <style>\n",
    "        body { font-family: Arial, sans-serif; }\n",
    "        .container { \n",
    "            width: 80%; \n",
    "            margin: auto;\n",
    "        }\n",
    "        .header-image { \n",
    "            width: 100%;\n",
    "            max-width: 1220px;\n",
    "            height: 200px;\n",
    "            background-image: url('https://drive.google.com/uc?export=view&id=1QYjJ5NNxcLieeDLYLlZoqkOLbuOn6foV'); \n",
    "            background-size: contain;\n",
    "            background-repeat: no-repeat;\n",
    "            background-position: center;\n",
    "            margin: auto;\n",
    "        }       \n",
    "        .news-title-center { \n",
    "            text-align: center;\n",
    "        }\n",
    "        .news-item { \n",
    "            display: flex; \n",
    "            align-items: flex-start; \n",
    "            margin-bottom: 20px; \n",
    "            border-bottom: 1px solid #FF6F61; /* Línea coral */\n",
    "            padding-bottom: 20px;\n",
    "        }\n",
    "        .news-image { width: 25%; height: auto; margin-right: 20px; }\n",
    "        .news-content { width: 75%; }\n",
    "        .news-title { \n",
    "            font-size: 18px; \n",
    "            font-weight: bold;\n",
    "            color: #0047AB; /* Azul cobalto */\n",
    "            text-align: justify;\n",
    "        }\n",
    "        .news-summary { \n",
    "            font-size: 14px; \n",
    "            margin-top: 10px;\n",
    "            text-align: justify;\n",
    "        }\n",
    "        .news-link { \n",
    "            text-decoration: none; \n",
    "            color: blue; \n",
    "            margin-top: 10px; \n",
    "            display: inline-block; \n",
    "            font-weight: bold;\n",
    "        }\n",
    "        .contact-section { \n",
    "            margin-top: 30px; \n",
    "            font-size: 14px; \n",
    "            background-color: #E0F7FA;\n",
    "            padding: 15px;\n",
    "            text-align: center;\n",
    "        }\n",
    "        .contact-detail { margin-top: 10px; }\n",
    "        .social-links { list-style: none; padding: 0; }\n",
    "        .social-links li { display: inline; margin-right: 10px; }\n",
    "        .social-links .fa-twitter { color: #1DA1F2; }\n",
    "        .social-links .fa-facebook { color: #3b5998; }\n",
    "        .social-links .fa-linkedin { color: #0077b5; }\n",
    "        .social-links .fa-youtube { color: #FF0000; }\n",
    "        .social-links .fa-instagram { color: #E4405F; }\n",
    "        .footer { \n",
    "            margin-top: 30px; \n",
    "            font-size: 12px; \n",
    "            text-align: center; \n",
    "            padding-top: 20px;\n",
    "            border-top: 1px solid #ddd;\n",
    "        }\n",
    "    </style>\n",
    "</head>\n",
    "<body>\n",
    "    <div class=\"container\">\n",
    "        <h1 class=\"news-title-center\">Boletín de Noticias</h1>\n",
    "        <h2 class='news-title-center'>Sección 1</h2>\n",
    "        <div class=\"news-item\">\n",
    "            <img src=\"http://a.files.bbci.co.uk/worldservice/live/assets/images/2014/09/22/140922074747_museo_britanico_144x81_getty_nocredit.jpg\" class=\"news-image\">\n",
    "            <div class=\"news-content\">\n",
    "                <div class=\"news-title\">Recrearán el Museo Británico en el video juego Minecraft</div>\n",
    "                <div class=\"news-summary\">El proyecto es parte del programa Futuro del museo, que tiene el objetivo de llegar a un público más amplio. Se espera que la primera etapa de construcción digital se complete para el 16 de octubre.</div>\n",
    "                <a href=\"http://www.bbc.co.uk/mundo/ultimas_noticias/2014/09/140922_ultnot_museo_britanico_minecraft_nc.shtml\" class=\"news-link\">Leer más</a>\n",
    "            </div>\n",
    "        </div>\n",
    "        \n",
    "        <div class=\"news-item\">\n",
    "            <img src=\"https://elcomercio.pe/resizer/HVHyfa9QmGL2em6SI76sK6PksK4=/cloudfront-us-east-1.images.arcpublishing.com/elcomercio/HBZ36MMTDFFGHEYGD2MFCQ2ONU.jpg\" class=\"news-image\">\n",
    "            <div class=\"news-content\">\n",
    "                <div class=\"news-title\">Línea 1 del Metro de Lima suspende servicios tras reportar fallas en el sistema</div>\n",
    "                <div class=\"news-summary\">El Metro de Lima recomendó a los pasajeros seguir las indicaciones del personal de estaciones.</div>\n",
    "                <a href=\"https://elcomercio.pe/lima/transporte/linea-1-del-metro-de-lima-suspende-servicios-tras-reportar-fallas-en-el-sistema-ultimas-noticia/\" class=\"news-link\">Leer más</a>\n",
    "            </div>\n",
    "        </div>\n",
    "        <h2 class='news-title-center'>Sección 2</h2>\n",
    "        <div class=\"news-item\">\n",
    "            <img src=\"http://a.files.bbci.co.uk/worldservice/live/assets/images/2014/09/23/140923122531_sp_siria_reuters_144.jpg\" class=\"news-image\">\n",
    "            <div class=\"news-content\">\n",
    "                <div class=\"news-title\">Boletín: Primer ataque de EE.UU. y aliados árabes contra Estado Islámico en Siria y otras noticias</div>\n",
    "                <div class=\"news-summary\">Además, Israel mata a dos palestinos que presuntamente asesinaron a tres jóvenes israelíes en junio, OMS advierte que para noviembre podría haber 20.000 casos de ébola, y arranca cumbre del clima de la ONU en Nueva York. La actualidad en 1 minuto.</div>\n",
    "                <a href=\"http://www.bbc.co.uk/mundo/video_fotos/2014/09/140923_video_boletin_noticias_re.shtml\" class=\"news-link\">Leer más</a>\n",
    "            </div>\n",
    "        </div>\n",
    "        \n",
    "    <div class=\"footer\">\n",
    "        Este boletín se genera automáticamente. Por favor, no responda a este correo electrónico.\n",
    "    </div>\n",
    "</body>\n",
    "</html>\n",
    "\"\"\"\n",
    "\n",
    "HTML( full_example )"
   ]
  },
  {
   "cell_type": "markdown",
   "id": "46045ca3-aeb3-448e-a65e-dd92bed97456",
   "metadata": {},
   "source": [
    "# 3.1. Getting started with Selenium"
   ]
  },
  {
   "cell_type": "markdown",
   "id": "f0b72715-cbb1-4d8d-bf0f-c34bffe2685e",
   "metadata": {},
   "source": [
    "To begin working with Selenium, it is essential to install the required libraries. To prevent conflicts with other libraries, it's advisable to create a new environment when working on a project. In Anaconda Prompt, execute the following commands to create and activate a new environment named \"wb\":\n",
    "\n",
    "```bash\n",
    "conda create -n wb\n",
    "conda activate wb\n",
    "```"
   ]
  },
  {
   "cell_type": "markdown",
   "id": "1e367ce3-a463-4108-b6cf-29bfaf5e09dd",
   "metadata": {},
   "source": [
    "Then we can install the required libraries by running the following commands: selenium\n"
   ]
  },
  {
   "cell_type": "code",
   "execution_count": 9,
   "id": "fa670607-89dc-4bce-9f27-2bb3c48baca1",
   "metadata": {},
   "outputs": [
    {
     "name": "stdout",
     "output_type": "stream",
     "text": [
      "Collecting openpyxl\n",
      "  Using cached openpyxl-3.1.5-py2.py3-none-any.whl.metadata (2.5 kB)\n",
      "Collecting et-xmlfile (from openpyxl)\n",
      "  Downloading et_xmlfile-2.0.0-py3-none-any.whl.metadata (2.7 kB)\n",
      "Using cached openpyxl-3.1.5-py2.py3-none-any.whl (250 kB)\n",
      "Downloading et_xmlfile-2.0.0-py3-none-any.whl (18 kB)\n",
      "Installing collected packages: et-xmlfile, openpyxl\n",
      "Successfully installed et-xmlfile-2.0.0 openpyxl-3.1.5\n",
      "Collecting pandas\n",
      "  Downloading pandas-2.2.3-cp311-cp311-win_amd64.whl.metadata (19 kB)\n",
      "Collecting numpy>=1.23.2 (from pandas)\n",
      "  Downloading numpy-2.1.3-cp311-cp311-win_amd64.whl.metadata (60 kB)\n",
      "Requirement already satisfied: python-dateutil>=2.8.2 in c:\\users\\alexa\\anaconda3\\envs\\wb1\\lib\\site-packages (from pandas) (2.9.0.post0)\n",
      "Requirement already satisfied: pytz>=2020.1 in c:\\users\\alexa\\anaconda3\\envs\\wb1\\lib\\site-packages (from pandas) (2024.1)\n",
      "Collecting tzdata>=2022.7 (from pandas)\n",
      "  Downloading tzdata-2024.2-py2.py3-none-any.whl.metadata (1.4 kB)\n",
      "Requirement already satisfied: six>=1.5 in c:\\users\\alexa\\anaconda3\\envs\\wb1\\lib\\site-packages (from python-dateutil>=2.8.2->pandas) (1.16.0)\n",
      "Downloading pandas-2.2.3-cp311-cp311-win_amd64.whl (11.6 MB)\n",
      "   ---------------------------------------- 0.0/11.6 MB ? eta -:--:--\n",
      "   -- ------------------------------------- 0.8/11.6 MB 4.8 MB/s eta 0:00:03\n",
      "   ------- -------------------------------- 2.1/11.6 MB 5.9 MB/s eta 0:00:02\n",
      "   ------------ --------------------------- 3.7/11.6 MB 6.2 MB/s eta 0:00:02\n",
      "   ------------------ --------------------- 5.2/11.6 MB 6.4 MB/s eta 0:00:01\n",
      "   --------------------- ------------------ 6.3/11.6 MB 6.4 MB/s eta 0:00:01\n",
      "   -------------------------- ------------- 7.6/11.6 MB 6.2 MB/s eta 0:00:01\n",
      "   ------------------------------- -------- 9.2/11.6 MB 6.4 MB/s eta 0:00:01\n",
      "   ------------------------------------ --- 10.5/11.6 MB 6.4 MB/s eta 0:00:01\n",
      "   ---------------------------------------- 11.6/11.6 MB 6.3 MB/s eta 0:00:00\n",
      "Downloading numpy-2.1.3-cp311-cp311-win_amd64.whl (12.9 MB)\n",
      "   ---------------------------------------- 0.0/12.9 MB ? eta -:--:--\n",
      "   - -------------------------------------- 0.5/12.9 MB 4.2 MB/s eta 0:00:03\n",
      "   ---- ----------------------------------- 1.6/12.9 MB 5.2 MB/s eta 0:00:03\n",
      "   -------- ------------------------------- 2.6/12.9 MB 5.0 MB/s eta 0:00:03\n",
      "   ---------- ----------------------------- 3.4/12.9 MB 4.9 MB/s eta 0:00:02\n",
      "   ------------ --------------------------- 3.9/12.9 MB 4.7 MB/s eta 0:00:02\n",
      "   ------------ --------------------------- 3.9/12.9 MB 4.7 MB/s eta 0:00:02\n",
      "   ------------- -------------------------- 4.5/12.9 MB 3.4 MB/s eta 0:00:03\n",
      "   ----------------- ---------------------- 5.5/12.9 MB 3.4 MB/s eta 0:00:03\n",
      "   ----------------- ---------------------- 5.8/12.9 MB 3.2 MB/s eta 0:00:03\n",
      "   ------------------ --------------------- 6.0/12.9 MB 3.0 MB/s eta 0:00:03\n",
      "   -------------------- ------------------- 6.6/12.9 MB 3.0 MB/s eta 0:00:03\n",
      "   ---------------------- ----------------- 7.3/12.9 MB 3.0 MB/s eta 0:00:02\n",
      "   ------------------------- -------------- 8.1/12.9 MB 3.1 MB/s eta 0:00:02\n",
      "   ---------------------------- ----------- 9.2/12.9 MB 3.2 MB/s eta 0:00:02\n",
      "   ------------------------------ --------- 10.0/12.9 MB 3.2 MB/s eta 0:00:01\n",
      "   ------------------------------- -------- 10.2/12.9 MB 3.1 MB/s eta 0:00:01\n",
      "   ---------------------------------- ----- 11.0/12.9 MB 3.1 MB/s eta 0:00:01\n",
      "   ------------------------------------ --- 11.8/12.9 MB 3.2 MB/s eta 0:00:01\n",
      "   ---------------------------------------  12.6/12.9 MB 3.2 MB/s eta 0:00:01\n",
      "   ---------------------------------------- 12.9/12.9 MB 3.2 MB/s eta 0:00:00\n",
      "Downloading tzdata-2024.2-py2.py3-none-any.whl (346 kB)\n",
      "Installing collected packages: tzdata, numpy, pandas\n",
      "Successfully installed numpy-2.1.3 pandas-2.2.3 tzdata-2024.2\n",
      "Requirement already satisfied: numpy in c:\\users\\alexa\\anaconda3\\envs\\wb1\\lib\\site-packages (2.1.3)\n",
      "Collecting lxml\n",
      "  Downloading lxml-5.3.0-cp311-cp311-win_amd64.whl.metadata (3.9 kB)\n",
      "Downloading lxml-5.3.0-cp311-cp311-win_amd64.whl (3.8 MB)\n",
      "   ---------------------------------------- 0.0/3.8 MB ? eta -:--:--\n",
      "   -------- ------------------------------- 0.8/3.8 MB 5.6 MB/s eta 0:00:01\n",
      "   --------------------- ------------------ 2.1/3.8 MB 5.3 MB/s eta 0:00:01\n",
      "   -------------------------------- ------- 3.1/3.8 MB 5.3 MB/s eta 0:00:01\n",
      "   ---------------------------------------- 3.8/3.8 MB 5.3 MB/s eta 0:00:00\n",
      "Installing collected packages: lxml\n",
      "Successfully installed lxml-5.3.0\n",
      "Collecting unidecode\n",
      "  Using cached Unidecode-1.3.8-py3-none-any.whl.metadata (13 kB)\n",
      "Using cached Unidecode-1.3.8-py3-none-any.whl (235 kB)\n",
      "Installing collected packages: unidecode\n",
      "Successfully installed unidecode-1.3.8\n"
     ]
    }
   ],
   "source": [
    "!pip install openpyxl\n",
    "!pip install pandas\n",
    "!pip install numpy\n",
    "!pip install lxml\n",
    "!pip install unidecode"
   ]
  },
  {
   "cell_type": "code",
   "execution_count": 11,
   "id": "b569ffac-24d0-4990-97e7-ce6eb882fdee",
   "metadata": {
    "scrolled": true
   },
   "outputs": [
    {
     "data": {
      "text/plain": [
       "'4.26.1'"
      ]
     },
     "execution_count": 11,
     "metadata": {},
     "output_type": "execute_result"
    }
   ],
   "source": [
    "# # Install Selenium\n",
    "#!pip install selenium\n",
    "\n",
    "# # Install Webdriver Manager\n",
    "#!pip install webdriver-manager\n",
    "\n",
    "# # Check Selenium version\n",
    "import selenium\n",
    "selenium.__version__"
   ]
  },
  {
   "cell_type": "code",
   "execution_count": 12,
   "id": "37fbf11e-6019-4f54-b1ec-e4161940e63c",
   "metadata": {},
   "outputs": [],
   "source": [
    "# # # Optionally, update Selenium to the latest version\n",
    "# !pip install -U selenium"
   ]
  },
  {
   "cell_type": "markdown",
   "id": "b9171e89-0141-456e-a24f-618a94648965",
   "metadata": {},
   "source": [
    "# 3.2. Web driver"
   ]
  },
  {
   "cell_type": "markdown",
   "id": "490f4472-b7de-4e0c-a14a-8d2e7a37cc3c",
   "metadata": {},
   "source": [
    "A Web Driver serves as a bridge between the code and the browser, enabling automation of actions such as clicking buttons, filling out forms, and extracting information. Initializing the Web Driver in Python involves creating an instance of the WebDriver for the desired browser, such as Chrome or Firefox, and then using methods to facilitate navigation and manipulation of elements on the web page."
   ]
  },
  {
   "cell_type": "code",
   "execution_count": 12,
   "id": "ba29d754-9e91-4f4b-b627-7a9be2c3bee8",
   "metadata": {
    "tags": []
   },
   "outputs": [],
   "source": [
    "from selenium import webdriver\n",
    "from webdriver_manager.chrome import ChromeDriverManager"
   ]
  },
  {
   "cell_type": "code",
   "execution_count": 19,
   "id": "0214568a-3f73-4581-a908-0e592f9ba041",
   "metadata": {
    "tags": []
   },
   "outputs": [],
   "source": [
    "url     = 'https://apps5.mineco.gob.pe/transparencia/Navegador/default.aspx?y=2023&ap=Proyecto'\n",
    "driver  = webdriver.Chrome()        \n",
    "driver.get( url )"
   ]
  },
  {
   "cell_type": "markdown",
   "id": "d43aab75-6595-45ca-bd36-c826340ffce7",
   "metadata": {},
   "source": [
    "We can maximize de window. Maximizing the window is particularly important because some web elements might only be visible or interactable when the browser is in a full-screen state."
   ]
  },
  {
   "cell_type": "code",
   "execution_count": 23,
   "id": "4ed922a3-2a8e-40b1-9441-1108804f3d3a",
   "metadata": {},
   "outputs": [],
   "source": [
    "driver.maximize_window()"
   ]
  },
  {
   "cell_type": "code",
   "execution_count": 18,
   "id": "3d842642-42c3-484e-9051-7d25f1b607cc",
   "metadata": {},
   "outputs": [],
   "source": [
    "#driver.quit()"
   ]
  },
  {
   "cell_type": "markdown",
   "id": "9c9f87c4-a49b-4670-a872-2d0ba2b45678",
   "metadata": {},
   "source": [
    "# 3.3. First operations"
   ]
  },
  {
   "cell_type": "markdown",
   "id": "2973512d-3284-4409-88d0-02bed9b4bdae",
   "metadata": {},
   "source": [
    "We can obtain and store the web page title:"
   ]
  },
  {
   "cell_type": "code",
   "execution_count": 20,
   "id": "a04da740-8af2-4bb8-af4c-41310c7c05aa",
   "metadata": {},
   "outputs": [
    {
     "data": {
      "text/plain": [
       "'Consulta Amigable - Navegador'"
      ]
     },
     "execution_count": 20,
     "metadata": {},
     "output_type": "execute_result"
    }
   ],
   "source": [
    "driver.title"
   ]
  },
  {
   "cell_type": "markdown",
   "id": "1dabc16f-399f-46dc-bf10-912e27adc06f",
   "metadata": {},
   "source": [
    "As well as the current url"
   ]
  },
  {
   "cell_type": "code",
   "execution_count": 21,
   "id": "67a9d68a-87d4-43f7-9916-76eb76772902",
   "metadata": {},
   "outputs": [
    {
     "data": {
      "text/plain": [
       "'https://apps5.mineco.gob.pe/transparencia/Navegador/default.aspx?y=2023&ap=Proyecto'"
      ]
     },
     "execution_count": 21,
     "metadata": {},
     "output_type": "execute_result"
    }
   ],
   "source": [
    "driver.current_url"
   ]
  },
  {
   "cell_type": "markdown",
   "id": "6386b284-3b9b-433c-9aed-ac2f72a808ed",
   "metadata": {},
   "source": [
    "And even take an screenshot"
   ]
  },
  {
   "cell_type": "code",
   "execution_count": 30,
   "id": "38fd35b6-5edf-4944-a2bb-a1e0a1485a1b",
   "metadata": {},
   "outputs": [
    {
     "data": {
      "text/plain": [
       "True"
      ]
     },
     "execution_count": 30,
     "metadata": {},
     "output_type": "execute_result"
    }
   ],
   "source": [
    "driver.save_screenshot(r'C:\\Users\\alexa\\OneDrive\\Documentos\\Session1\\screenshot.png')"
   ]
  },
  {
   "cell_type": "markdown",
   "id": "88717043-9268-4de4-a87e-124ed148e174",
   "metadata": {},
   "source": [
    "We can also refresh the driver"
   ]
  },
  {
   "cell_type": "code",
   "execution_count": 31,
   "id": "b87a45a4-60bd-47c3-aefb-2151ee9c7507",
   "metadata": {},
   "outputs": [],
   "source": [
    "driver.refresh()"
   ]
  },
  {
   "cell_type": "code",
   "execution_count": 32,
   "id": "71ae8105-9dcf-4acc-b857-270d649deb93",
   "metadata": {},
   "outputs": [],
   "source": [
    "driver.quit()"
   ]
  },
  {
   "cell_type": "markdown",
   "id": "43d5873a-d092-40c2-a264-29a0b734f5cf",
   "metadata": {},
   "source": [
    "We can emply the headless mode. This mode allows to run your browser automation tasks without opening an actual browser window. It's useful for saving system resources and running tests faster, especially on servers that don't have a display."
   ]
  },
  {
   "cell_type": "code",
   "execution_count": 13,
   "id": "5bd3ad6e-3931-4d23-a058-1874ec641c43",
   "metadata": {},
   "outputs": [],
   "source": [
    "from selenium.webdriver.chrome.options import Options"
   ]
  },
  {
   "cell_type": "code",
   "execution_count": 34,
   "id": "aca8101b-ade0-4443-8d20-f1f45da30ea2",
   "metadata": {},
   "outputs": [],
   "source": [
    "url     = 'https://apps5.mineco.gob.pe/transparencia/Navegador/default.aspx?y=2023&ap=Proyecto'\n",
    "options = Options()\n",
    "options.add_argument( '--headless' )\n",
    "\n",
    "driver  = webdriver.Chrome( options = options )\n",
    "driver.get( url )"
   ]
  },
  {
   "cell_type": "markdown",
   "id": "0584699e-c4b2-478e-8527-ba30bf290c97",
   "metadata": {},
   "source": [
    "We can also accesss the elements for headless mode"
   ]
  },
  {
   "cell_type": "code",
   "execution_count": 35,
   "id": "b18e7f1b-5bf0-46c7-ba72-09679672a427",
   "metadata": {},
   "outputs": [
    {
     "data": {
      "text/plain": [
       "'Consulta Amigable - Navegador'"
      ]
     },
     "execution_count": 35,
     "metadata": {},
     "output_type": "execute_result"
    }
   ],
   "source": [
    "driver.title"
   ]
  },
  {
   "cell_type": "code",
   "execution_count": 36,
   "id": "d302870b-a95f-481d-b2f8-a4feea98922f",
   "metadata": {},
   "outputs": [],
   "source": [
    "driver.quit()"
   ]
  },
  {
   "cell_type": "markdown",
   "id": "4d27af4e-d9c3-452f-a5b4-2be54ef4f55e",
   "metadata": {},
   "source": [
    "## 3.4. Location methods"
   ]
  },
  {
   "cell_type": "markdown",
   "id": "9c7718a2-d9bc-4c6a-9f7c-c73792e6b088",
   "metadata": {},
   "source": [
    "In Selenium, location methods are used to find elements on a web page. These methods allow you to select elements based on their HTML attributes, such as ID, name, XPath, tag name, class name, or CSS selector. Using the right locator ensures that your automation script interacts with the correct elements on the page."
   ]
  },
  {
   "cell_type": "markdown",
   "id": "640f9884-ddd8-40df-8d44-352048f8db29",
   "metadata": {},
   "source": [
    "|Method|Description|\n",
    "|---|---|\n",
    "|find_element( By.XPATH, \"xpath\" ) | Used for finding an element by its Xpath|\n",
    "|find_element( By.ID, \"id\" ) | Used for finding an element by its id|\n",
    "|find_element( By.NAME, \"name\" ) | Used for finding an element by its name attribute|\n",
    "|find_element( By.TAG_NAME, \"tag name\" ) | Used for finding an element by its HTML tag|\n",
    "|find_element( By.CLASS_NAME, \"class name\" ) | Used for finding an element by its class name|\n",
    "|find_element( By.CSS_SELECTOR, \"css selector\" )| Used for finding an element by its CSS selector|"
   ]
  },
  {
   "cell_type": "markdown",
   "id": "5907cf86-efdd-4971-8491-02f058cec7bf",
   "metadata": {},
   "source": [
    "We will try Location methods in the Congressional Bills Page"
   ]
  },
  {
   "cell_type": "code",
   "execution_count": 17,
   "id": "54841a09-0d23-4494-8993-fac3138eb145",
   "metadata": {},
   "outputs": [],
   "source": [
    "import pandas as pd\n",
    "import numpy as np\n",
    "from selenium.webdriver.common.by import By\n",
    "from io import StringIO\n",
    "import os\n",
    "import time\n",
    "import requests"
   ]
  },
  {
   "cell_type": "code",
   "execution_count": 36,
   "id": "637c3576-9e89-42ac-9a46-cc4d1ca678c0",
   "metadata": {},
   "outputs": [],
   "source": [
    "url     = 'https://wb2server.congreso.gob.pe/spley-portal/#/expediente/search'\n",
    "driver  = webdriver.Chrome()        \n",
    "driver.get( url )\n",
    "driver.maximize_window()"
   ]
  },
  {
   "cell_type": "markdown",
   "id": "c246b782-7b4a-40ff-b2a8-0186b6f13860",
   "metadata": {},
   "source": [
    "We can access the Congressional Bills Table in an static way"
   ]
  },
  {
   "cell_type": "code",
   "execution_count": 38,
   "id": "8830373c-5245-4a24-a0a1-5a8bb5d9918d",
   "metadata": {},
   "outputs": [],
   "source": [
    "table_element = driver.find_element( By.XPATH, '/html/body/app-root/app-publico/div[3]/app-search/section/div/div/p-table/div/div/table' )\n",
    "table_html    = table_element.get_attribute( 'outerHTML' )\n",
    "table_html_io = StringIO( table_html )\n",
    "table_df      = pd.read_html( table_html_io )[ 0 ]"
   ]
  },
  {
   "cell_type": "code",
   "execution_count": 39,
   "id": "208b3c8e-0c88-47d9-b145-1c3fb28887c8",
   "metadata": {},
   "outputs": [],
   "source": [
    "path_static = r'C:\\Users\\alexa\\OneDrive\\Documentos\\Session1'\n",
    "os.makedirs( path_static, exist_ok = True )\n",
    "\n",
    "path_table = path_static + '/Congressional_Bills.xlsx'\n",
    "table_df.to_excel( path_table, index = False )"
   ]
  },
  {
   "cell_type": "code",
   "execution_count": 40,
   "id": "a03beeba-038a-437e-8668-6c5641dcdb5a",
   "metadata": {},
   "outputs": [
    {
     "data": {
      "text/html": [
       "<div>\n",
       "<style scoped>\n",
       "    .dataframe tbody tr th:only-of-type {\n",
       "        vertical-align: middle;\n",
       "    }\n",
       "\n",
       "    .dataframe tbody tr th {\n",
       "        vertical-align: top;\n",
       "    }\n",
       "\n",
       "    .dataframe thead th {\n",
       "        text-align: right;\n",
       "    }\n",
       "</style>\n",
       "<table border=\"1\" class=\"dataframe\">\n",
       "  <thead>\n",
       "    <tr style=\"text-align: right;\">\n",
       "      <th></th>\n",
       "      <th>PROYECTOS DE LEY</th>\n",
       "      <th>FECHA DE PRESENTACIÓN</th>\n",
       "      <th>TÍTULO</th>\n",
       "      <th>ESTADO PROCESAL</th>\n",
       "      <th>PROPONENTE</th>\n",
       "      <th>AUTORES</th>\n",
       "    </tr>\n",
       "  </thead>\n",
       "  <tbody>\n",
       "    <tr>\n",
       "      <th>0</th>\n",
       "      <td>Proyecto de Ley 09537/2024-CR</td>\n",
       "      <td>Fecha de Presentación19/11/2024</td>\n",
       "      <td>TítuloLEY DE FOMENTO AL BIENESTAR ANIMAL Y PRO...</td>\n",
       "      <td>Estado ProcesalPRESENTADO</td>\n",
       "      <td>ProponenteCongreso</td>\n",
       "      <td>AutoresOlivos Martínez, Vivian Castillo Rivas,...</td>\n",
       "    </tr>\n",
       "    <tr>\n",
       "      <th>1</th>\n",
       "      <td>Proyecto de Ley 09536/2024-CR</td>\n",
       "      <td>Fecha de Presentación19/11/2024</td>\n",
       "      <td>TítuloLEY QUE MODIFICA EL ARTÍCULO 26 DE LA LE...</td>\n",
       "      <td>Estado ProcesalPRESENTADO</td>\n",
       "      <td>ProponenteCongreso</td>\n",
       "      <td>AutoresUgarte Mamani, Jhakeline Katy Gutiérrez...</td>\n",
       "    </tr>\n",
       "    <tr>\n",
       "      <th>2</th>\n",
       "      <td>Proyecto de Ley 09535/2024-CR</td>\n",
       "      <td>Fecha de Presentación19/11/2024</td>\n",
       "      <td>TítuloLEY QUE DECLARA DE INTERÉS NACIONAL Y NE...</td>\n",
       "      <td>Estado ProcesalPRESENTADO</td>\n",
       "      <td>ProponenteCongreso</td>\n",
       "      <td>AutoresTrigozo Reátegui, Cheryl Muñante Barrio...</td>\n",
       "    </tr>\n",
       "    <tr>\n",
       "      <th>3</th>\n",
       "      <td>Proyecto de Ley 09534/2024-CR</td>\n",
       "      <td>Fecha de Presentación19/11/2024</td>\n",
       "      <td>TítuloLEY QUE PROPONE EL ACUERDO PATRIMONIAL S...</td>\n",
       "      <td>Estado ProcesalPRESENTADO</td>\n",
       "      <td>ProponenteCongreso</td>\n",
       "      <td>AutoresMuñante Barrios, Alejandro Trigozo Reát...</td>\n",
       "    </tr>\n",
       "    <tr>\n",
       "      <th>4</th>\n",
       "      <td>Proyecto de Ley 09533/2024-CR</td>\n",
       "      <td>Fecha de Presentación19/11/2024</td>\n",
       "      <td>TítuloLEY QUE ESTABLECE EL RÉGIMEN DEL TRABAJO...</td>\n",
       "      <td>Estado ProcesalPRESENTADO</td>\n",
       "      <td>ProponenteCongreso</td>\n",
       "      <td>AutoresBazán Narro, Sigrid Tesoro Cortez Aguir...</td>\n",
       "    </tr>\n",
       "  </tbody>\n",
       "</table>\n",
       "</div>"
      ],
      "text/plain": [
       "                PROYECTOS DE LEY            FECHA DE PRESENTACIÓN  \\\n",
       "0  Proyecto de Ley 09537/2024-CR  Fecha de Presentación19/11/2024   \n",
       "1  Proyecto de Ley 09536/2024-CR  Fecha de Presentación19/11/2024   \n",
       "2  Proyecto de Ley 09535/2024-CR  Fecha de Presentación19/11/2024   \n",
       "3  Proyecto de Ley 09534/2024-CR  Fecha de Presentación19/11/2024   \n",
       "4  Proyecto de Ley 09533/2024-CR  Fecha de Presentación19/11/2024   \n",
       "\n",
       "                                              TÍTULO  \\\n",
       "0  TítuloLEY DE FOMENTO AL BIENESTAR ANIMAL Y PRO...   \n",
       "1  TítuloLEY QUE MODIFICA EL ARTÍCULO 26 DE LA LE...   \n",
       "2  TítuloLEY QUE DECLARA DE INTERÉS NACIONAL Y NE...   \n",
       "3  TítuloLEY QUE PROPONE EL ACUERDO PATRIMONIAL S...   \n",
       "4  TítuloLEY QUE ESTABLECE EL RÉGIMEN DEL TRABAJO...   \n",
       "\n",
       "             ESTADO PROCESAL          PROPONENTE  \\\n",
       "0  Estado ProcesalPRESENTADO  ProponenteCongreso   \n",
       "1  Estado ProcesalPRESENTADO  ProponenteCongreso   \n",
       "2  Estado ProcesalPRESENTADO  ProponenteCongreso   \n",
       "3  Estado ProcesalPRESENTADO  ProponenteCongreso   \n",
       "4  Estado ProcesalPRESENTADO  ProponenteCongreso   \n",
       "\n",
       "                                             AUTORES  \n",
       "0  AutoresOlivos Martínez, Vivian Castillo Rivas,...  \n",
       "1  AutoresUgarte Mamani, Jhakeline Katy Gutiérrez...  \n",
       "2  AutoresTrigozo Reátegui, Cheryl Muñante Barrio...  \n",
       "3  AutoresMuñante Barrios, Alejandro Trigozo Reát...  \n",
       "4  AutoresBazán Narro, Sigrid Tesoro Cortez Aguir...  "
      ]
     },
     "execution_count": 40,
     "metadata": {},
     "output_type": "execute_result"
    }
   ],
   "source": [
    "table_df.head( 5 )"
   ]
  },
  {
   "cell_type": "markdown",
   "id": "4aae7cb8-5ef4-43b2-ac06-ffac16cdcfb8",
   "metadata": {},
   "source": [
    "We can access the Congressional Bills Tables in a dinamic way for the first five pages"
   ]
  },
  {
   "cell_type": "code",
   "execution_count": 41,
   "id": "77d4822d-c469-483c-b9be-89115e63b836",
   "metadata": {},
   "outputs": [
    {
     "name": "stdout",
     "output_type": "stream",
     "text": [
      "Success at table: 1\n",
      "Success at table: 2\n",
      "Success at table: 3\n",
      "Success at table: 4\n",
      "Success at table: 5\n"
     ]
    }
   ],
   "source": [
    "path_dinamic = path_static + '/dinamic'\n",
    "os.makedirs( path_dinamic, exist_ok = True )\n",
    "\n",
    "for index in np.arange( 1, 6, step = 1 ):\n",
    "\n",
    "    table_element = driver.find_element( By.XPATH, '/html/body/app-root/app-publico/div[3]/app-search/section/div/div/p-table/div/div/table' )\n",
    "    table_html    = table_element.get_attribute( 'outerHTML' )\n",
    "    table_html_io = StringIO( table_html )\n",
    "    table_df_d    = pd.read_html( table_html_io )[ 0 ]\n",
    "\n",
    "    next_button   = driver.find_element( By.XPATH, '/html/body/app-root/app-publico/div[3]/app-search/section/div/div/p-table/div/p-paginator[1]/div/button[3]' )\n",
    "    next_button.click()\n",
    "\n",
    "    time.sleep( 2 )\n",
    "\n",
    "    path_table = path_dinamic + f'/Congressional_Bills_n_{ index }.xlsx'\n",
    "    table_df_d.to_excel( path_table, index = False )\n",
    "    \n",
    "    print( f'Success at table: { index }' )"
   ]
  },
  {
   "cell_type": "markdown",
   "id": "5dfa994e-dde1-4d63-8242-653688c5a154",
   "metadata": {},
   "source": [
    "\n",
    "To determine the total number of pagination buttons, we retrieve the text from the last pagination button."
   ]
  },
  {
   "cell_type": "code",
   "execution_count": 42,
   "id": "9eecc36e-bf1c-4825-9fd1-d6bab7b0192e",
   "metadata": {
    "scrolled": true
   },
   "outputs": [
    {
     "name": "stdout",
     "output_type": "stream",
     "text": [
      "N. Pagination Buttons is: 191\n"
     ]
    }
   ],
   "source": [
    "pagination_next_button = driver.find_element( By.XPATH, '/html/body/app-root/app-publico/div[3]/app-search/section/div/div/p-table/div/p-paginator[1]/div/button[4]' )\n",
    "pagination_next_button.click()\n",
    "\n",
    "time.sleep( 2 )\n",
    "\n",
    "last_pagination_button = driver.find_element( By.XPATH, '/html/body/app-root/app-publico/div[3]/app-search/section/div/div/p-table/div/p-paginator[1]/div/span[2]/button[5]' )\n",
    "n_pagination_buttons   = last_pagination_button.text\n",
    "print( f'N. Pagination Buttons is: { n_pagination_buttons }' )"
   ]
  },
  {
   "cell_type": "code",
   "execution_count": 43,
   "id": "b90117eb-9426-473e-8253-8ee80cbea344",
   "metadata": {},
   "outputs": [],
   "source": [
    "driver.quit()"
   ]
  },
  {
   "cell_type": "markdown",
   "id": "776555a8-7668-4c00-bef9-033a4cc7b811",
   "metadata": {},
   "source": [
    "We can downlad the PDF documents for Congressional Bills as well. We start importing the Options function"
   ]
  },
  {
   "cell_type": "code",
   "execution_count": 44,
   "id": "9677fd69-b592-4829-b9c3-b87a27f4f5c1",
   "metadata": {},
   "outputs": [],
   "source": [
    "from selenium.webdriver.chrome.options import Options"
   ]
  },
  {
   "cell_type": "markdown",
   "id": "fb167d75-b55e-4c42-a278-2dfcc0b433a4",
   "metadata": {},
   "source": [
    "We then retrieve the ID for each bill listed in `table_df`. Additionally, we establish the base URL."
   ]
  },
  {
   "cell_type": "code",
   "execution_count": 45,
   "id": "f080f0b1-c9e1-4fbf-8baf-7b29be9bff72",
   "metadata": {},
   "outputs": [],
   "source": [
    "bills_id = table_df[ 'PROYECTOS DE LEY' ].apply( lambda x: x.split( 'Ley ' )[ 1 ].split( '/' )[ 0 ] ).tolist()\n",
    "\n",
    "base_url   = 'https://wb2server.congreso.gob.pe/spley-portal/#/expediente/2021/'"
   ]
  },
  {
   "cell_type": "code",
   "execution_count": 46,
   "id": "ecd3dd2a-501e-4950-937d-5e820910f177",
   "metadata": {},
   "outputs": [],
   "source": [
    "path_pdf = path_static + '/pdf_docs'\n",
    "os.makedirs( path_pdf, exist_ok = True )"
   ]
  },
  {
   "cell_type": "code",
   "execution_count": 55,
   "id": "9fa62e85-3e68-447c-b35b-c023388cd0c7",
   "metadata": {},
   "outputs": [
    {
     "name": "stdout",
     "output_type": "stream",
     "text": [
      "Base: https://wb2server.congreso.gob.pe/spley-portal/#/expediente/2021/\n",
      "Generated: https://wb2server.congreso.gob.pe/spley-portal/#/expediente/2021/09537\n",
      "Base: https://wb2server.congreso.gob.pe/spley-portal/#/expediente/2021/\n",
      "Generated: https://wb2server.congreso.gob.pe/spley-portal/#/expediente/2021/09536\n",
      "Base: https://wb2server.congreso.gob.pe/spley-portal/#/expediente/2021/\n",
      "Generated: https://wb2server.congreso.gob.pe/spley-portal/#/expediente/2021/09535\n",
      "Base: https://wb2server.congreso.gob.pe/spley-portal/#/expediente/2021/\n",
      "Generated: https://wb2server.congreso.gob.pe/spley-portal/#/expediente/2021/09534\n",
      "Base: https://wb2server.congreso.gob.pe/spley-portal/#/expediente/2021/\n",
      "Generated: https://wb2server.congreso.gob.pe/spley-portal/#/expediente/2021/09533\n"
     ]
    }
   ],
   "source": [
    "n_items =  5\n",
    "\n",
    "for i, bill in enumerate( bills_id[ :n_items ] ):\n",
    "    bill_url = base_url + bill\n",
    "    print (  f'Base: { base_url }' )\n",
    "    print (  f'Generated: { bill_url }' )"
   ]
  },
  {
   "cell_type": "code",
   "execution_count": 57,
   "id": "58c5347d-dfb5-4a02-8ad7-c9d0be14a0d4",
   "metadata": {},
   "outputs": [
    {
     "name": "stdout",
     "output_type": "stream",
     "text": [
      "Success downloading bill: 09537\n",
      "Success downloading bill: 09536\n",
      "Success downloading bill: 09535\n",
      "Success downloading bill: 09534\n",
      "Success downloading bill: 09533\n",
      "Success downloading bill: 09532\n",
      "Success downloading bill: 09531\n",
      "Success downloading bill: 09530\n"
     ]
    }
   ],
   "source": [
    "chrome_options = Options()\n",
    "\n",
    "prefs = {\n",
    "    'download.default_directory'        : r'C:\\Users\\alexa\\OneDrive\\Documentos\\Session1',\n",
    "    'download.prompt_for_download'      : False,  # Desactiva la ventana emergente que pide confirmación antes de descargar.\n",
    "    'download.directory_upgrade'        : True,   # Permite la actualización del directorio de descarga si cambia.\n",
    "    'plugins.always_open_pdf_externally': True    # Hace que los archivos PDF se abran automáticamente con un visor externo sin preguntarlo.\n",
    "}\n",
    "\n",
    "chrome_options.add_experimental_option( 'prefs', prefs )\n",
    "\n",
    "driver = webdriver.Chrome( options = chrome_options )\n",
    "url = 'https://wb2server.congreso.gob.pe/spley-portal/#/expediente/search'\n",
    "driver.get(url)\n",
    "driver.maximize_window()\n",
    "\n",
    "n_items = 8\n",
    "\n",
    "for i, bill in enumerate( bills_id[ :n_items ] ):\n",
    "    bill_url = base_url + bill\n",
    "    driver.get( bill_url )\n",
    "\n",
    "    time.sleep( 5 )\n",
    "\n",
    "    try:\n",
    "        pdf_button = driver.find_element( By.XPATH, '//*[@id=\"p-tabpanel-0\"]/p-table/div/div/table/tbody/tr/td[5]/button' )\n",
    "        pdf_button.click()\n",
    "\n",
    "        print( f'Success downloading bill: { bill }' )\n",
    "        \n",
    "    except Exception as e:\n",
    "       \n",
    "        print( f'We did not find PDF button for { bill_url }: {e}' )\n",
    "\n",
    "    time.sleep( 5 )\n",
    "\n",
    "    if i == ( n_items - 1 ):\n",
    "\n",
    "        time.sleep( 10 )\n",
    "\n",
    "driver.quit()"
   ]
  },
  {
   "cell_type": "markdown",
   "id": "bb84df5f-5b8f-431a-9764-28b5ccfe23a4",
   "metadata": {},
   "source": [
    "Now let's try to scrape the SIAF web page"
   ]
  },
  {
   "cell_type": "code",
   "execution_count": 65,
   "id": "3a93092a-2dde-4660-a71c-966e7a0038bc",
   "metadata": {},
   "outputs": [],
   "source": [
    "url     = 'https://apps5.mineco.gob.pe/transparencia/Navegador/default.aspx?y=2023&ap=ActProy'\n",
    "driver  = webdriver.Chrome()        \n",
    "driver.get( url )\n",
    "driver.maximize_window()"
   ]
  },
  {
   "cell_type": "code",
   "execution_count": 66,
   "id": "b20483d1-ea1c-4157-b0e9-2ddd45cf15e7",
   "metadata": {
    "scrolled": true
   },
   "outputs": [
    {
     "ename": "NoSuchElementException",
     "evalue": "Message: no such element: Unable to locate element: {\"method\":\"xpath\",\"selector\":\"//*[@id=\"ctl00_CPH1_BtnTipoGobierno\"]\"}\n  (Session info: chrome=131.0.6778.85); For documentation on this error, please visit: https://www.selenium.dev/documentation/webdriver/troubleshooting/errors#no-such-element-exception\nStacktrace:\n\tGetHandleVerifier [0x00007FF7FB706CB5+28821]\n\t(No symbol) [0x00007FF7FB673840]\n\t(No symbol) [0x00007FF7FB51578A]\n\t(No symbol) [0x00007FF7FB5691BE]\n\t(No symbol) [0x00007FF7FB5694AC]\n\t(No symbol) [0x00007FF7FB5B2647]\n\t(No symbol) [0x00007FF7FB58F33F]\n\t(No symbol) [0x00007FF7FB5AF412]\n\t(No symbol) [0x00007FF7FB58F0A3]\n\t(No symbol) [0x00007FF7FB55A778]\n\t(No symbol) [0x00007FF7FB55B8E1]\n\tGetHandleVerifier [0x00007FF7FBA3FCAD+3408013]\n\tGetHandleVerifier [0x00007FF7FBA5741F+3504127]\n\tGetHandleVerifier [0x00007FF7FBA4B5FD+3455453]\n\tGetHandleVerifier [0x00007FF7FB7CBDBB+835995]\n\t(No symbol) [0x00007FF7FB67EB5F]\n\t(No symbol) [0x00007FF7FB67A814]\n\t(No symbol) [0x00007FF7FB67A9AD]\n\t(No symbol) [0x00007FF7FB66A199]\n\tBaseThreadInitThunk [0x00007FFB0156259D+29]\n\tRtlUserThreadStart [0x00007FFB0388AF38+40]\n",
     "output_type": "error",
     "traceback": [
      "\u001b[1;31m---------------------------------------------------------------------------\u001b[0m",
      "\u001b[1;31mNoSuchElementException\u001b[0m                    Traceback (most recent call last)",
      "Cell \u001b[1;32mIn[66], line 1\u001b[0m\n\u001b[1;32m----> 1\u001b[0m goverment_levels_button \u001b[38;5;241m=\u001b[39m driver\u001b[38;5;241m.\u001b[39mfind_element( By\u001b[38;5;241m.\u001b[39mXPATH, \u001b[38;5;124m'\u001b[39m\u001b[38;5;124m//*[@id=\u001b[39m\u001b[38;5;124m\"\u001b[39m\u001b[38;5;124mctl00_CPH1_BtnTipoGobierno\u001b[39m\u001b[38;5;124m\"\u001b[39m\u001b[38;5;124m]\u001b[39m\u001b[38;5;124m'\u001b[39m )\n\u001b[0;32m      2\u001b[0m goverment_levels_button\u001b[38;5;241m.\u001b[39mclick()\n",
      "File \u001b[1;32m~\\anaconda3\\envs\\wb1\\Lib\\site-packages\\selenium\\webdriver\\remote\\webdriver.py:766\u001b[0m, in \u001b[0;36mWebDriver.find_element\u001b[1;34m(self, by, value)\u001b[0m\n\u001b[0;32m    763\u001b[0m         \u001b[38;5;28;01mraise\u001b[39;00m NoSuchElementException(\u001b[38;5;124mf\u001b[39m\u001b[38;5;124m\"\u001b[39m\u001b[38;5;124mCannot locate relative element with: \u001b[39m\u001b[38;5;132;01m{\u001b[39;00mby\u001b[38;5;241m.\u001b[39mroot\u001b[38;5;132;01m}\u001b[39;00m\u001b[38;5;124m\"\u001b[39m)\n\u001b[0;32m    764\u001b[0m     \u001b[38;5;28;01mreturn\u001b[39;00m elements[\u001b[38;5;241m0\u001b[39m]\n\u001b[1;32m--> 766\u001b[0m \u001b[38;5;28;01mreturn\u001b[39;00m \u001b[38;5;28mself\u001b[39m\u001b[38;5;241m.\u001b[39mexecute(Command\u001b[38;5;241m.\u001b[39mFIND_ELEMENT, {\u001b[38;5;124m\"\u001b[39m\u001b[38;5;124musing\u001b[39m\u001b[38;5;124m\"\u001b[39m: by, \u001b[38;5;124m\"\u001b[39m\u001b[38;5;124mvalue\u001b[39m\u001b[38;5;124m\"\u001b[39m: value})[\u001b[38;5;124m\"\u001b[39m\u001b[38;5;124mvalue\u001b[39m\u001b[38;5;124m\"\u001b[39m]\n",
      "File \u001b[1;32m~\\anaconda3\\envs\\wb1\\Lib\\site-packages\\selenium\\webdriver\\remote\\webdriver.py:380\u001b[0m, in \u001b[0;36mWebDriver.execute\u001b[1;34m(self, driver_command, params)\u001b[0m\n\u001b[0;32m    378\u001b[0m response \u001b[38;5;241m=\u001b[39m \u001b[38;5;28mself\u001b[39m\u001b[38;5;241m.\u001b[39mcommand_executor\u001b[38;5;241m.\u001b[39mexecute(driver_command, params)\n\u001b[0;32m    379\u001b[0m \u001b[38;5;28;01mif\u001b[39;00m response:\n\u001b[1;32m--> 380\u001b[0m     \u001b[38;5;28mself\u001b[39m\u001b[38;5;241m.\u001b[39merror_handler\u001b[38;5;241m.\u001b[39mcheck_response(response)\n\u001b[0;32m    381\u001b[0m     response[\u001b[38;5;124m\"\u001b[39m\u001b[38;5;124mvalue\u001b[39m\u001b[38;5;124m\"\u001b[39m] \u001b[38;5;241m=\u001b[39m \u001b[38;5;28mself\u001b[39m\u001b[38;5;241m.\u001b[39m_unwrap_value(response\u001b[38;5;241m.\u001b[39mget(\u001b[38;5;124m\"\u001b[39m\u001b[38;5;124mvalue\u001b[39m\u001b[38;5;124m\"\u001b[39m, \u001b[38;5;28;01mNone\u001b[39;00m))\n\u001b[0;32m    382\u001b[0m     \u001b[38;5;28;01mreturn\u001b[39;00m response\n",
      "File \u001b[1;32m~\\anaconda3\\envs\\wb1\\Lib\\site-packages\\selenium\\webdriver\\remote\\errorhandler.py:229\u001b[0m, in \u001b[0;36mErrorHandler.check_response\u001b[1;34m(self, response)\u001b[0m\n\u001b[0;32m    227\u001b[0m         alert_text \u001b[38;5;241m=\u001b[39m value[\u001b[38;5;124m\"\u001b[39m\u001b[38;5;124malert\u001b[39m\u001b[38;5;124m\"\u001b[39m]\u001b[38;5;241m.\u001b[39mget(\u001b[38;5;124m\"\u001b[39m\u001b[38;5;124mtext\u001b[39m\u001b[38;5;124m\"\u001b[39m)\n\u001b[0;32m    228\u001b[0m     \u001b[38;5;28;01mraise\u001b[39;00m exception_class(message, screen, stacktrace, alert_text)  \u001b[38;5;66;03m# type: ignore[call-arg]  # mypy is not smart enough here\u001b[39;00m\n\u001b[1;32m--> 229\u001b[0m \u001b[38;5;28;01mraise\u001b[39;00m exception_class(message, screen, stacktrace)\n",
      "\u001b[1;31mNoSuchElementException\u001b[0m: Message: no such element: Unable to locate element: {\"method\":\"xpath\",\"selector\":\"//*[@id=\"ctl00_CPH1_BtnTipoGobierno\"]\"}\n  (Session info: chrome=131.0.6778.85); For documentation on this error, please visit: https://www.selenium.dev/documentation/webdriver/troubleshooting/errors#no-such-element-exception\nStacktrace:\n\tGetHandleVerifier [0x00007FF7FB706CB5+28821]\n\t(No symbol) [0x00007FF7FB673840]\n\t(No symbol) [0x00007FF7FB51578A]\n\t(No symbol) [0x00007FF7FB5691BE]\n\t(No symbol) [0x00007FF7FB5694AC]\n\t(No symbol) [0x00007FF7FB5B2647]\n\t(No symbol) [0x00007FF7FB58F33F]\n\t(No symbol) [0x00007FF7FB5AF412]\n\t(No symbol) [0x00007FF7FB58F0A3]\n\t(No symbol) [0x00007FF7FB55A778]\n\t(No symbol) [0x00007FF7FB55B8E1]\n\tGetHandleVerifier [0x00007FF7FBA3FCAD+3408013]\n\tGetHandleVerifier [0x00007FF7FBA5741F+3504127]\n\tGetHandleVerifier [0x00007FF7FBA4B5FD+3455453]\n\tGetHandleVerifier [0x00007FF7FB7CBDBB+835995]\n\t(No symbol) [0x00007FF7FB67EB5F]\n\t(No symbol) [0x00007FF7FB67A814]\n\t(No symbol) [0x00007FF7FB67A9AD]\n\t(No symbol) [0x00007FF7FB66A199]\n\tBaseThreadInitThunk [0x00007FFB0156259D+29]\n\tRtlUserThreadStart [0x00007FFB0388AF38+40]\n"
     ]
    }
   ],
   "source": [
    "goverment_levels_button = driver.find_element( By.XPATH, '//*[@id=\"ctl00_CPH1_BtnTipoGobierno\"]' )\n",
    "goverment_levels_button.click()"
   ]
  },
  {
   "cell_type": "markdown",
   "id": "6d3ba3de-5f8f-448a-9418-5b93686d89b2",
   "metadata": {},
   "source": [
    "An \"iframe\", short for \"inline frame\", is an HTML element used to embed another web page within a parent page. In web scraping, it's important to identify iframes because they have their own separate DOM (Document Object Model). Elements within an iframe cannot be directly accessed from the main page's DOM. Therefore, to interact with or extract data from elements inside an iframe, one must first switch to the iframe's context. Failure to do so will result in an inability to locate and manipulate these elements, making understanding and handling iframes essential for successful scraping of complex web pages."
   ]
  },
  {
   "cell_type": "code",
   "execution_count": null,
   "id": "25242835-26be-4a2d-9244-2d909e06d3a0",
   "metadata": {},
   "outputs": [],
   "source": [
    "frames = driver.find_elements( By.TAG_NAME, \"frame\" )\n",
    "if frames:\n",
    "    print( 'There are frames in this web page.' )\n",
    "    for i, frame in enumerate( frames ):\n",
    "        frame_html = frame.get_attribute( 'outerHTML' )\n",
    "        print( f'HTML code of frame { i }:' )\n",
    "        print( frame_html )\n",
    "else:\n",
    "    print('No frames found on the page.' )"
   ]
  },
  {
   "cell_type": "markdown",
   "id": "2e6fc483-22b4-4871-b303-e7ea93839a48",
   "metadata": {},
   "source": [
    "Once identified the frame/iframe we can use the switch to frame method"
   ]
  },
  {
   "cell_type": "code",
   "execution_count": 67,
   "id": "3c2fdff6-3724-4bcc-8143-93cecc1cdf8f",
   "metadata": {},
   "outputs": [],
   "source": [
    "frame = driver.find_element( By.ID, \"frame0\" )\n",
    "driver.switch_to.frame( frame )"
   ]
  },
  {
   "cell_type": "markdown",
   "id": "1db33fd7-1c99-44f3-ac19-a7687785b8c7",
   "metadata": {},
   "source": [
    "Now we can click the Government Levels button"
   ]
  },
  {
   "cell_type": "code",
   "execution_count": 68,
   "id": "93242078-2a49-4bf8-a88d-ebf0d98680e2",
   "metadata": {},
   "outputs": [],
   "source": [
    "goverment_levels_button = driver.find_element( By.XPATH, '//*[@id=\"ctl00_CPH1_BtnTipoGobierno\"]' )\n",
    "goverment_levels_button.click()"
   ]
  },
  {
   "cell_type": "markdown",
   "id": "da8177a9-d6f5-47db-8035-ec9100bfadc6",
   "metadata": {},
   "source": [
    "Let's access some data from Regional Governments"
   ]
  },
  {
   "cell_type": "code",
   "execution_count": 69,
   "id": "6d50490c-d068-4cca-8f9c-968e015d0379",
   "metadata": {},
   "outputs": [],
   "source": [
    "regional_governments_level_button = driver.find_element( By.XPATH, '//*[@id=\"ctl00_CPH1_RptData_ctl03_TD0\"]/input' )\n",
    "regional_governments_level_button.click()\n",
    "\n",
    "time.sleep( 2 )\n",
    "\n",
    "sector_button = driver.find_element( By.XPATH, '//*[@id=\"ctl00_CPH1_BtnSector\"]' )\n",
    "sector_button.click()\n",
    "\n",
    "time.sleep( 2 )\n",
    "\n",
    "regional_goverments_button = driver.find_element( By.XPATH, '//*[@id=\"ctl00_CPH1_RptData_ctl02_TD0\"]/input' )\n",
    "regional_goverments_button.click()\n",
    "\n",
    "time.sleep( 2 )\n",
    "\n",
    "pliego_button = driver.find_element( By.XPATH, '//*[@id=\"ctl00_CPH1_BtnPliego\"]' )\n",
    "pliego_button.click()"
   ]
  },
  {
   "cell_type": "code",
   "execution_count": 70,
   "id": "1dc5d40e-183d-4730-909d-315a79d6d5d8",
   "metadata": {},
   "outputs": [],
   "source": [
    "table_element = driver.find_element( By.XPATH, \"//table[@class='Data']\" )\n",
    "table_html    = table_element.get_attribute( 'outerHTML' )\n",
    "table_html_io = StringIO( table_html )\n",
    "table_df      = pd.read_html( table_html_io )[ 0 ]"
   ]
  },
  {
   "cell_type": "code",
   "execution_count": 71,
   "id": "e802e2eb-1559-4035-a26a-f6173dd7f250",
   "metadata": {},
   "outputs": [
    {
     "data": {
      "text/html": [
       "<div>\n",
       "<style scoped>\n",
       "    .dataframe tbody tr th:only-of-type {\n",
       "        vertical-align: middle;\n",
       "    }\n",
       "\n",
       "    .dataframe tbody tr th {\n",
       "        vertical-align: top;\n",
       "    }\n",
       "\n",
       "    .dataframe thead th {\n",
       "        text-align: right;\n",
       "    }\n",
       "</style>\n",
       "<table border=\"1\" class=\"dataframe\">\n",
       "  <thead>\n",
       "    <tr style=\"text-align: right;\">\n",
       "      <th></th>\n",
       "      <th>0</th>\n",
       "      <th>1</th>\n",
       "      <th>2</th>\n",
       "      <th>3</th>\n",
       "      <th>4</th>\n",
       "      <th>5</th>\n",
       "      <th>6</th>\n",
       "      <th>7</th>\n",
       "      <th>8</th>\n",
       "      <th>9</th>\n",
       "    </tr>\n",
       "  </thead>\n",
       "  <tbody>\n",
       "    <tr>\n",
       "      <th>0</th>\n",
       "      <td>NaN</td>\n",
       "      <td>440: GOBIERNO REGIONAL DEL DEPARTAMENTO DE AMA...</td>\n",
       "      <td>1179543064</td>\n",
       "      <td>1540608616</td>\n",
       "      <td>1532841226</td>\n",
       "      <td>1506168202</td>\n",
       "      <td>1501812047</td>\n",
       "      <td>1500163314</td>\n",
       "      <td>1434931313</td>\n",
       "      <td>97.4</td>\n",
       "    </tr>\n",
       "    <tr>\n",
       "      <th>1</th>\n",
       "      <td>NaN</td>\n",
       "      <td>441: GOBIERNO REGIONAL DEL DEPARTAMENTO DE ANCASH</td>\n",
       "      <td>2535471411</td>\n",
       "      <td>3034507325</td>\n",
       "      <td>2700692982</td>\n",
       "      <td>2574885651</td>\n",
       "      <td>2573348946</td>\n",
       "      <td>2573099281</td>\n",
       "      <td>2571839978</td>\n",
       "      <td>84.8</td>\n",
       "    </tr>\n",
       "    <tr>\n",
       "      <th>2</th>\n",
       "      <td>NaN</td>\n",
       "      <td>442: GOBIERNO REGIONAL DEL DEPARTAMENTO DE APU...</td>\n",
       "      <td>1219427445</td>\n",
       "      <td>1481066763</td>\n",
       "      <td>1450345046</td>\n",
       "      <td>1439674071</td>\n",
       "      <td>1427867460</td>\n",
       "      <td>1424568391</td>\n",
       "      <td>1424164126</td>\n",
       "      <td>96.2</td>\n",
       "    </tr>\n",
       "    <tr>\n",
       "      <th>3</th>\n",
       "      <td>NaN</td>\n",
       "      <td>443: GOBIERNO REGIONAL DEL DEPARTAMENTO DE ARE...</td>\n",
       "      <td>2380402279</td>\n",
       "      <td>3199066208</td>\n",
       "      <td>3048096940</td>\n",
       "      <td>2988856508</td>\n",
       "      <td>2957285909</td>\n",
       "      <td>2956176809</td>\n",
       "      <td>2955298615</td>\n",
       "      <td>92.4</td>\n",
       "    </tr>\n",
       "    <tr>\n",
       "      <th>4</th>\n",
       "      <td>NaN</td>\n",
       "      <td>444: GOBIERNO REGIONAL DEL DEPARTAMENTO DE AYA...</td>\n",
       "      <td>1739949908</td>\n",
       "      <td>2245901927</td>\n",
       "      <td>2188831480</td>\n",
       "      <td>2177688126</td>\n",
       "      <td>2166802546</td>\n",
       "      <td>2163858251</td>\n",
       "      <td>2163654261</td>\n",
       "      <td>96.3</td>\n",
       "    </tr>\n",
       "  </tbody>\n",
       "</table>\n",
       "</div>"
      ],
      "text/plain": [
       "    0                                                  1           2  \\\n",
       "0 NaN  440: GOBIERNO REGIONAL DEL DEPARTAMENTO DE AMA...  1179543064   \n",
       "1 NaN  441: GOBIERNO REGIONAL DEL DEPARTAMENTO DE ANCASH  2535471411   \n",
       "2 NaN  442: GOBIERNO REGIONAL DEL DEPARTAMENTO DE APU...  1219427445   \n",
       "3 NaN  443: GOBIERNO REGIONAL DEL DEPARTAMENTO DE ARE...  2380402279   \n",
       "4 NaN  444: GOBIERNO REGIONAL DEL DEPARTAMENTO DE AYA...  1739949908   \n",
       "\n",
       "            3           4           5           6           7           8  \\\n",
       "0  1540608616  1532841226  1506168202  1501812047  1500163314  1434931313   \n",
       "1  3034507325  2700692982  2574885651  2573348946  2573099281  2571839978   \n",
       "2  1481066763  1450345046  1439674071  1427867460  1424568391  1424164126   \n",
       "3  3199066208  3048096940  2988856508  2957285909  2956176809  2955298615   \n",
       "4  2245901927  2188831480  2177688126  2166802546  2163858251  2163654261   \n",
       "\n",
       "      9  \n",
       "0  97.4  \n",
       "1  84.8  \n",
       "2  96.2  \n",
       "3  92.4  \n",
       "4  96.3  "
      ]
     },
     "execution_count": 71,
     "metadata": {},
     "output_type": "execute_result"
    }
   ],
   "source": [
    "table_df.head( 5 )"
   ]
  },
  {
   "cell_type": "markdown",
   "id": "2315b600-edf0-4d24-9a80-651f8f1aba3f",
   "metadata": {},
   "source": [
    "We are missing the titles (headers). We will find them by locating them through their TAG NAMES."
   ]
  },
  {
   "cell_type": "code",
   "execution_count": 72,
   "id": "6167df16-9c48-4822-ae0b-8555a0686d79",
   "metadata": {},
   "outputs": [
    {
     "name": "stdout",
     "output_type": "stream",
     "text": [
      "[' ', 'Pliego', 'PIA', 'PIM', 'Certificación', 'Compromiso Anual', 'Ejecución', 'Avance % ']\n",
      "['Atención de Compromiso Mensual ', 'Devengado ', 'Girado ']\n"
     ]
    }
   ],
   "source": [
    "headers_elements_r0 = driver.find_element( By.XPATH, '//*[@id=\"ctl00_CPH1_Mt0_Row0\"]' ).find_elements( By.TAG_NAME, 'td' )\n",
    "headers_r0          = [ element.text for element in headers_elements_r0 ]\n",
    "\n",
    "headers_elements_r1 = driver.find_element( By.XPATH, '//*[@id=\"ctl00_CPH1_Mt0_Row1\"]' ).find_elements( By.TAG_NAME, 'td' )\n",
    "headers_r1          = [ element.text for element in headers_elements_r1 ]\n",
    "\n",
    "print( headers_r0, headers_r1, sep = '\\n' )"
   ]
  },
  {
   "cell_type": "code",
   "execution_count": 73,
   "id": "1e21df03-5b45-446a-af64-02288cc631c2",
   "metadata": {},
   "outputs": [],
   "source": [
    "driver.quit()"
   ]
  },
  {
   "cell_type": "code",
   "execution_count": 74,
   "id": "9081ede9-b461-4795-b82c-1860f73d4689",
   "metadata": {},
   "outputs": [
    {
     "name": "stdout",
     "output_type": "stream",
     "text": [
      "[' ', 'Pliego', 'PIA', 'PIM', 'Certificación', 'Compromiso Anual', 'Atención de Compromiso Mensual ', 'Devengado ', 'Girado ', 'Avance %']\n"
     ]
    }
   ],
   "source": [
    "headers_r0 = [ header for header in headers_r0 if header not in [ 'Ejecución', 'Avance % ' ] ]\n",
    "headers = headers_r0 + headers_r1 + [ 'Avance %' ]\n",
    "print( headers )"
   ]
  },
  {
   "cell_type": "code",
   "execution_count": 75,
   "id": "3bfe7c94-d627-45e8-81c7-11a60cec271d",
   "metadata": {},
   "outputs": [
    {
     "data": {
      "text/html": [
       "<div>\n",
       "<style scoped>\n",
       "    .dataframe tbody tr th:only-of-type {\n",
       "        vertical-align: middle;\n",
       "    }\n",
       "\n",
       "    .dataframe tbody tr th {\n",
       "        vertical-align: top;\n",
       "    }\n",
       "\n",
       "    .dataframe thead th {\n",
       "        text-align: right;\n",
       "    }\n",
       "</style>\n",
       "<table border=\"1\" class=\"dataframe\">\n",
       "  <thead>\n",
       "    <tr style=\"text-align: right;\">\n",
       "      <th></th>\n",
       "      <th>Pliego</th>\n",
       "      <th>PIA</th>\n",
       "      <th>PIM</th>\n",
       "      <th>Certificación</th>\n",
       "      <th>Compromiso Anual</th>\n",
       "      <th>Atención de Compromiso Mensual</th>\n",
       "      <th>Devengado</th>\n",
       "      <th>Girado</th>\n",
       "      <th>Avance %</th>\n",
       "    </tr>\n",
       "  </thead>\n",
       "  <tbody>\n",
       "    <tr>\n",
       "      <th>0</th>\n",
       "      <td>440: GOBIERNO REGIONAL DEL DEPARTAMENTO DE AMA...</td>\n",
       "      <td>1179543064</td>\n",
       "      <td>1540608616</td>\n",
       "      <td>1532841226</td>\n",
       "      <td>1506168202</td>\n",
       "      <td>1501812047</td>\n",
       "      <td>1500163314</td>\n",
       "      <td>1434931313</td>\n",
       "      <td>97.4</td>\n",
       "    </tr>\n",
       "    <tr>\n",
       "      <th>1</th>\n",
       "      <td>441: GOBIERNO REGIONAL DEL DEPARTAMENTO DE ANCASH</td>\n",
       "      <td>2535471411</td>\n",
       "      <td>3034507325</td>\n",
       "      <td>2700692982</td>\n",
       "      <td>2574885651</td>\n",
       "      <td>2573348946</td>\n",
       "      <td>2573099281</td>\n",
       "      <td>2571839978</td>\n",
       "      <td>84.8</td>\n",
       "    </tr>\n",
       "    <tr>\n",
       "      <th>2</th>\n",
       "      <td>442: GOBIERNO REGIONAL DEL DEPARTAMENTO DE APU...</td>\n",
       "      <td>1219427445</td>\n",
       "      <td>1481066763</td>\n",
       "      <td>1450345046</td>\n",
       "      <td>1439674071</td>\n",
       "      <td>1427867460</td>\n",
       "      <td>1424568391</td>\n",
       "      <td>1424164126</td>\n",
       "      <td>96.2</td>\n",
       "    </tr>\n",
       "    <tr>\n",
       "      <th>3</th>\n",
       "      <td>443: GOBIERNO REGIONAL DEL DEPARTAMENTO DE ARE...</td>\n",
       "      <td>2380402279</td>\n",
       "      <td>3199066208</td>\n",
       "      <td>3048096940</td>\n",
       "      <td>2988856508</td>\n",
       "      <td>2957285909</td>\n",
       "      <td>2956176809</td>\n",
       "      <td>2955298615</td>\n",
       "      <td>92.4</td>\n",
       "    </tr>\n",
       "    <tr>\n",
       "      <th>4</th>\n",
       "      <td>444: GOBIERNO REGIONAL DEL DEPARTAMENTO DE AYA...</td>\n",
       "      <td>1739949908</td>\n",
       "      <td>2245901927</td>\n",
       "      <td>2188831480</td>\n",
       "      <td>2177688126</td>\n",
       "      <td>2166802546</td>\n",
       "      <td>2163858251</td>\n",
       "      <td>2163654261</td>\n",
       "      <td>96.3</td>\n",
       "    </tr>\n",
       "  </tbody>\n",
       "</table>\n",
       "</div>"
      ],
      "text/plain": [
       "                                              Pliego         PIA         PIM  \\\n",
       "0  440: GOBIERNO REGIONAL DEL DEPARTAMENTO DE AMA...  1179543064  1540608616   \n",
       "1  441: GOBIERNO REGIONAL DEL DEPARTAMENTO DE ANCASH  2535471411  3034507325   \n",
       "2  442: GOBIERNO REGIONAL DEL DEPARTAMENTO DE APU...  1219427445  1481066763   \n",
       "3  443: GOBIERNO REGIONAL DEL DEPARTAMENTO DE ARE...  2380402279  3199066208   \n",
       "4  444: GOBIERNO REGIONAL DEL DEPARTAMENTO DE AYA...  1739949908  2245901927   \n",
       "\n",
       "   Certificación  Compromiso Anual  Atención de Compromiso Mensual   \\\n",
       "0     1532841226        1506168202                       1501812047   \n",
       "1     2700692982        2574885651                       2573348946   \n",
       "2     1450345046        1439674071                       1427867460   \n",
       "3     3048096940        2988856508                       2957285909   \n",
       "4     2188831480        2177688126                       2166802546   \n",
       "\n",
       "   Devengado      Girado   Avance %  \n",
       "0  1500163314  1434931313      97.4  \n",
       "1  2573099281  2571839978      84.8  \n",
       "2  1424568391  1424164126      96.2  \n",
       "3  2956176809  2955298615      92.4  \n",
       "4  2163858251  2163654261      96.3  "
      ]
     },
     "execution_count": 75,
     "metadata": {},
     "output_type": "execute_result"
    }
   ],
   "source": [
    "table_df.columns = headers\n",
    "table_df = table_df.drop( table_df.columns[ 0 ], axis = 1 )\n",
    "table_df.head( 5 )"
   ]
  },
  {
   "cell_type": "code",
   "execution_count": 77,
   "id": "c38fc140-ce9e-43c1-8347-4a69edc34af7",
   "metadata": {},
   "outputs": [],
   "source": [
    "path_siaf          = r'C:\\Users\\alexa\\OneDrive\\Documentos\\Session1'\n",
    "path_siaf_regional = path_siaf + '/regional'\n",
    "os.makedirs( path_siaf_regional, exist_ok = True )"
   ]
  },
  {
   "cell_type": "code",
   "execution_count": 78,
   "id": "fe447c60-b44c-47fc-ab20-0dab41210ea2",
   "metadata": {},
   "outputs": [],
   "source": [
    "table_path = path_siaf_regional + '/regional_table.xlsx'\n",
    "table_df.to_excel( table_path, index = False )"
   ]
  },
  {
   "cell_type": "markdown",
   "id": "9c3e6cf1-b3f0-416d-9bcc-8eb5477c50ce",
   "metadata": {},
   "source": [
    "## 3.5. Generating URLs in the SIAF Database"
   ]
  },
  {
   "cell_type": "markdown",
   "id": "3ec885e3-82b6-4c8e-ab48-3ecc6c2d8e72",
   "metadata": {},
   "source": [
    "We can manipulate SIAF URLs to directly access data at the districtal and provincial levels. The SIAF database employs concatenators, represented by the `&` character in its URLs. By modifying these concatenators, we can directly access data at these levels. Let's consider the concatenators meaning:"
   ]
  },
  {
   "cell_type": "markdown",
   "id": "7149ac59-50d9-4797-87b9-80aab77a6493",
   "metadata": {},
   "source": [
    "| Concatenator   | Description                                          |\n",
    "|----------------|------------------------------------------------------|\n",
    "| `&_tgt=xls`    | download Excel files                                 |\n",
    "| `&_uhc=yes`    | download accumulated results                         |\n",
    "| `&0=`          | total                                                |\n",
    "| `&1=M`         | local governments                                    |\n",
    "| `&37=M`        | municipalities                                       |\n",
    "| `&5=01`        | UBIGEO for departments (empty for all provinces)     |\n",
    "| `&6=01`        | UBIGEO for provinces (empty for all provinces)       |\n",
    "| `&7=07`        | UBIGEO for districts (empty for all districts)       |\n",
    "| `&y=2023`      | year                                                 |\n",
    "| `&ap=Proyecto` | type of consult (Proyecto, Actividad, ActProy)       |\n",
    "| `&cpage=1`     | number of pages                                      |\n",
    "| `&psize=500`   | number of observations                               |"
   ]
  },
  {
   "cell_type": "markdown",
   "id": "b3082991-b84f-45f4-bcc8-adcee4aeca95",
   "metadata": {},
   "source": [
    "Now let's access to data at provincial level. The default navigator url looks like this: \n",
    "\n",
    "https://apps5.mineco.gob.pe/transparencia/Navegador/default.aspx?y=2023&ap=Proyecto\n",
    "\n",
    "\n",
    "While the navigator url (that can be found at the Sources box) looks like this:\n",
    "\n",
    "\n",
    "https://apps5.mineco.gob.pe/transparencia/Navegador/Navegar_7.aspx?y=2023&ap=Proyecto"
   ]
  },
  {
   "cell_type": "markdown",
   "id": "9ea04e6a-1408-4f14-b962-76facb8ec4a9",
   "metadata": {},
   "source": [
    "We access to the box source for the navigator url at the export url line:\n",
    "\n",
    "```\n",
    "Navegar_7.aspx?_tgt=xls&_uhc=yes&0=&1=M&37=M&5=01&6=&y=2023&ap=Proyecto&cpage=1&psize=400\n",
    "```"
   ]
  },
  {
   "cell_type": "markdown",
   "id": "bf400d78-5534-4d09-bee3-ff67b53254c8",
   "metadata": {},
   "source": [
    "We then can generate the provincial URL by adding the base URL:\n",
    "\n",
    "https://apps5.mineco.gob.pe/transparencia/Navegador/Navegar_7.aspx?_tgt=xls&_uhc=yes&0=&1=M&37=M&5=01&6=&y=2023&ap=Proyecto&cpage=1&psize=400\n",
    "\n",
    "And then modifying the concatenators to our requirements. We quit concatenators for the department level and set empty the concatenator at the provincial level:\n",
    "\n",
    "https://apps5.mineco.gob.pe/transparencia/Navegador/Navegar_7.aspx?0=&1=M&37=M&6=&y=2023&ap=Proyecto&cpage=1&psize=400"
   ]
  },
  {
   "cell_type": "markdown",
   "id": "a5db006f-21fe-4c94-a96c-d42e9df4fc05",
   "metadata": {},
   "source": [
    "We can replicate this process for the distrital level:\n",
    "\n",
    "https://apps5.mineco.gob.pe/transparencia/Navegador/Navegar_7.aspx?0=&1=M&37=M&7=&y=2023&ap=Proyecto&cpage=1&psize=2000"
   ]
  },
  {
   "cell_type": "markdown",
   "id": "f111cfea-f7b3-49c9-a9a2-72a4aa56fef7",
   "metadata": {},
   "source": [
    "Now we can scrape in an efficient way. This time we'll scrape through districts to find their spending functions."
   ]
  },
  {
   "cell_type": "code",
   "execution_count": 79,
   "id": "380a4b41-a2a1-4e2d-9124-b4e3c6f25c9c",
   "metadata": {},
   "outputs": [],
   "source": [
    "path_siaf_districts = path_siaf + '/districts'\n",
    "os.makedirs( path_siaf_districts, exist_ok = True )"
   ]
  },
  {
   "cell_type": "code",
   "execution_count": 80,
   "id": "f45264f7-9465-4a33-b5e3-1ccec6354433",
   "metadata": {},
   "outputs": [],
   "source": [
    "url     = 'https://apps5.mineco.gob.pe/transparencia/Navegador/Navegar_7.aspx?0=&1=M&37=M&7=&y=2023&ap=Proyecto&cpage=1&psize=2000'\n",
    "driver  = webdriver.Chrome()        \n",
    "driver.get( url )\n",
    "driver.maximize_window()"
   ]
  },
  {
   "cell_type": "code",
   "execution_count": 81,
   "id": "57bd61e8-5486-4b16-b203-108ef65455da",
   "metadata": {},
   "outputs": [
    {
     "name": "stdout",
     "output_type": "stream",
     "text": [
      "Extracted:  MUNICIPALIDAD PROVINCIAL DE CHACHAPOYAS\n",
      "Extracted:  MUNICIPALIDAD DISTRITAL DE ASUNCION\n",
      "Extracted:  MUNICIPALIDAD DISTRITAL DE BALSAS\n",
      "Extracted:  MUNICIPALIDAD DISTRITAL DE CHETO\n",
      "Extracted:  MUNICIPALIDAD DISTRITAL DE CHILIQUIN\n"
     ]
    }
   ],
   "source": [
    "districts_list = driver.find_elements( By.XPATH, \"//tr[contains(@id, 'tr')]\" )\n",
    "\n",
    "for index, district in enumerate(  districts_list[ : 5 ] ):\n",
    "\n",
    "    functions_button = driver.find_element( By.XPATH, '//*[@id=\"ctl00_CPH1_BtnFuncion\"]' )\n",
    "    district_button  = driver.find_elements( By.XPATH, \"//tr[contains(@id, 'tr')]\" )[ index ]\n",
    "    district_name    = district_button.find_element( By.XPATH, './td[2]' ).text.strip().split( ':' )[ 1 ]\n",
    "\n",
    "    district_button.click()    \n",
    "    functions_button.click()\n",
    "\n",
    "    time.sleep( 5 )\n",
    "\n",
    "    table_element    = driver.find_element( By.XPATH, \"//table[@class='Data']\" )\n",
    "    table_html       = table_element.get_attribute( 'outerHTML' )\n",
    "    table_html_io    = StringIO( table_html )\n",
    "    table_df         = pd.read_html( table_html_io )[ 0 ]\n",
    "    table_df.columns = headers\n",
    "    table_df         = table_df.drop( table_df.columns[ 0 ], axis = 1 )\n",
    "\n",
    "    folder_path = os.path.join( path_siaf_districts, district_name )\n",
    "    os.makedirs( folder_path, exist_ok = True )\n",
    "    file_path   = os.path.join( folder_path, f'{ district_name }.xlsx' )\n",
    "    table_df.to_excel( file_path )\n",
    "\n",
    "    print( f'Extracted: { district_name }' )\n",
    "\n",
    "    come_back_button = driver.find_element( By.XPATH, '//*[@id=\"ctl00_CPH1_RptHistory_ctl04_TD0\"]' )\n",
    "    come_back_button.click()\n",
    "\n",
    "    time.sleep( 5 )"
   ]
  },
  {
   "cell_type": "code",
   "execution_count": 51,
   "id": "49da8dae-a2ab-4027-9a97-14140246d4ec",
   "metadata": {},
   "outputs": [],
   "source": [
    "# driver.quit()"
   ]
  },
  {
   "cell_type": "markdown",
   "id": "45512f20-c5ec-4778-8ee9-46df384523b9",
   "metadata": {},
   "source": [
    "## 3.6. Explicit and implicit waits"
   ]
  },
  {
   "cell_type": "markdown",
   "id": "5946a4c2-bbbb-4553-abe9-b0455b913e5d",
   "metadata": {},
   "source": [
    "In Selenium for web scraping, there are two main types of waits: implicit and explicit.\n",
    "\n",
    "1. **Implicit Waits**:\n",
    "   - Set a default wait time for the entire session.\n",
    "   - Selenium waits for a specified time to find an element before giving an error.\n",
    "   - Useful for a general wait time for all elements.\n",
    "\n",
    "2. **Explicit Waits**:\n",
    "   - Set wait conditions for specific elements.\n",
    "   - Selenium waits for certain conditions (like visibility or clickability) to be met.\n",
    "   - Checks for the condition at intervals until it's met or time runs out.\n",
    "   - Ideal for elements that load slowly or need specific conditions to be met.\n"
   ]
  },
  {
   "cell_type": "markdown",
   "id": "652bbfbc-c8c5-4328-8b87-8c6272434271",
   "metadata": {},
   "source": [
    "Below is a table outlining the main methods used for explicit waits in Selenium. For a comprehensive list of all explicit wait methods available in Selenium, please click [here](https://selenium-python.readthedocs.io/waits.html).\n"
   ]
  },
  {
   "cell_type": "markdown",
   "id": "6a8e52bc-3c9c-4ae0-a4bf-4f5c3db4172c",
   "metadata": {},
   "source": [
    "| Method                                  | Description |\n",
    "|-----------------------------------------|----------------------------------------------------------------------------------------------------------------------------------------------------------------------------------|\n",
    "| `presence_of_element_located`           | Waits until an element is present in the page's DOM. Does not guarantee that the element is visible.                                                                              |\n",
    "| `visibility_of_element_located`         | Waits until an element is visible on the page, meaning it's not hidden and has a height and width greater than zero.                                                             |\n",
    "| `element_to_be_clickable`               | Waits until an element is visible and clickable, which implies the element is visible and enabled for actions like clicks.                                                       |\n",
    "| `visibility_of`                         | Waits until an element is visible and has a size greater than zero. Similar to `visibility_of_element_located`, but uses a direct element instead of a location.                  |\n",
    "| `presence_of_all_elements_located`      | Waits until all elements matching a specified selector are present in the page's DOM.                                                                                                    |\n"
   ]
  },
  {
   "cell_type": "markdown",
   "id": "1e4491ef-c917-460d-926a-65eecfea916d",
   "metadata": {},
   "source": [
    "We are now going to revise our scraper for the SIAF to incorporate explicit waits.\n"
   ]
  },
  {
   "cell_type": "code",
   "execution_count": 56,
   "id": "940f39d7-aba6-4042-a31c-fa67ae348ef1",
   "metadata": {},
   "outputs": [],
   "source": [
    "from selenium.webdriver.common.by import By\n",
    "from selenium.webdriver.support.ui import WebDriverWait\n",
    "from selenium.webdriver.support import expected_conditions as EC\n",
    "import os"
   ]
  },
  {
   "cell_type": "markdown",
   "id": "29a60dda-3cbd-48cc-8d06-1f04349edc51",
   "metadata": {},
   "source": [
    "Next, we are going to incorporate explicit waits into our SIAF scraper. Additionally, we will construct it in the form of a function."
   ]
  },
  {
   "cell_type": "code",
   "execution_count": 57,
   "id": "4bf93b3f-41a7-4594-b57e-f1f548f453fe",
   "metadata": {},
   "outputs": [],
   "source": [
    "def siaf_scraper( year, spending_type, activity_type, path ):\n",
    "\n",
    "    '''\n",
    "    Objective:\n",
    "    \n",
    "        Scrape data from the SIAF (Sistema Integrado de Administración Financiera) \n",
    "        website for a given year, spending type, and activity type. The data is \n",
    "        saved in Excel format.\n",
    "\n",
    "    Input:\n",
    "        year (int)          : The year for which the data is to be scraped. \n",
    "        \n",
    "        spending_type (str) : The category of spending to scrape. Valid options are:\n",
    "                                - 'Categoría Presupuestal'\n",
    "                                - 'Producto o Proyecto'\n",
    "                                - 'Función'\n",
    "                                \n",
    "        activity_type (str) : The type of activity to scrape. Valid options are:\n",
    "                                - 'Actividades'\n",
    "                                - 'Proyectos'\n",
    "                                - 'Actividades y proyectos'\n",
    "        \n",
    "        path (str)          : The file path where the scraped data will be saved.\n",
    "\n",
    "    Output:\n",
    "    \n",
    "        The function saves the scraped data into an Excel file for each entity within \n",
    "        the specified year and spending type. The files are saved in the directory \n",
    "        specified by the 'path' argument. The function also prints and logs any errors \n",
    "        encountered during scraping in a .txt file.\n",
    "    '''\n",
    "\n",
    "    activity_mappings = {\n",
    "                'Actividades'            : 'Actividad',\n",
    "                'Proyectos'              : 'Proyecto',\n",
    "                'Actividades y proyectos': 'ActProy'\n",
    "    }\n",
    "\n",
    "    activity_type = activity_mappings.get( activity_type )\n",
    "\n",
    "    url = f'https://apps5.mineco.gob.pe/transparencia/Navegador/Navegar_7.aspx?0=&1=M&37=M&7=&y={ year }&ap={ activity_type }&cpage=1&psize=2000'\n",
    "    \n",
    "    driver = webdriver.Chrome()        \n",
    "    driver.get( url )\n",
    "    driver.maximize_window()\n",
    "    wait = WebDriverWait(driver, 10)\n",
    "\n",
    "    xpath_mappings = {\n",
    "                'Categoría Presupuestal': '//*[@id=\"ctl00_CPH1_BtnProgramaPpto\"]',\n",
    "                'Producto o Proyecto'   : '//*[@id=\"ctl00_CPH1_BtnProdProy\"]',\n",
    "                'Función'               : '//*[@id=\"ctl00_CPH1_BtnFuncion\"]'    \n",
    "                }\n",
    "\n",
    "    xpath = xpath_mappings.get( spending_type )\n",
    "\n",
    "    os.makedirs( path, exist_ok = True )    \n",
    "    path_txt = os.path.join( path, f'{ year }_{ spending_type }_records.txt' )\n",
    "\n",
    "    with open(path_txt, 'w') as f:\n",
    "        \n",
    "        n_iterations = driver.find_elements( By.XPATH, \"//tr[contains(@id, 'tr')]\" )\n",
    "        \n",
    "        for index, district in enumerate( n_iterations ):\n",
    "            \n",
    "            try:\n",
    "                entities_list     = wait.until( EC.presence_of_all_elements_located( ( By.XPATH, \"//tr[contains(@id, 'tr')]\" ) ) )\n",
    "                entity_button     = entities_list[ index ]\n",
    "                full_entity_name  = entity_button.find_element( By.XPATH, './td[2]' ).text.strip()\n",
    "                short_entity_name = entity_button.find_element( By.XPATH, './td[2]' ).text.strip().split( ':' )[ 1 ]\n",
    "                entity_button.click()\n",
    "                \n",
    "                spending_type_button = wait.until( EC.element_to_be_clickable( ( By.XPATH, xpath ) ) )\n",
    "                spending_type_button.click()\n",
    "                \n",
    "                headers_elements_r0 = wait.until( EC.presence_of_element_located( ( By.XPATH, '//*[@id=\"ctl00_CPH1_Mt0_Row0\"]' ) ) ).find_elements( By.TAG_NAME, 'td' )\n",
    "                headers_elements_r1 = wait.until( EC.presence_of_element_located( ( By.XPATH, '//*[@id=\"ctl00_CPH1_Mt0_Row1\"]' ) ) ).find_elements( By.TAG_NAME, 'td' )\n",
    "                headers_r0          = [ element.text for element in headers_elements_r0 if element.text not in [ 'Ejecución', 'Avance % ' ] ]\n",
    "                headers_r1          = [ element.text for element in headers_elements_r1 ]\n",
    "                headers             = headers_r0 + headers_r1 + [ 'Avance %', 'Municipalidad', 'year', 'tipo_actividad' ]\n",
    "        \n",
    "                table_element          = wait.until( EC.element_to_be_clickable( ( By.XPATH, \"//table[@class='Data']\" ) ) )\n",
    "                table_html             = table_element.get_attribute( 'outerHTML' )\n",
    "                table_html_io          = StringIO( table_html )\n",
    "                df                     = pd.read_html( table_html_io )[ 0 ]\n",
    "                df[ 'Municipalidad' ]  = full_entity_name\n",
    "                df[ 'year' ]           = year\n",
    "                df[ 'tipo_actividad' ] = activity_type\n",
    "                df.columns             = headers\n",
    "                df                     = df.drop( df.columns[ 0 ], axis = 1 )\n",
    "                df                     = df[ df.columns[ -3 : ].to_list() + df.columns[: -3 ].to_list() ]\n",
    "\n",
    "        \n",
    "        \n",
    "                folder_path = os.path.join( f'{ path }', f'{ year }_{ spending_type }' )\n",
    "                os.makedirs( folder_path, exist_ok = True )\n",
    "                file_path   = os.path.join( folder_path, f'{ year }_{ short_entity_name }.xlsx' )\n",
    "                df.to_excel( file_path, index = False )\n",
    "\n",
    "                print(f'Extracted: { short_entity_name }\\n' )\n",
    "                f.write(f'Extracted: { short_entity_name }\\n' )\n",
    "\n",
    "                come_back_button = wait.until( EC.element_to_be_clickable( ( By.XPATH, '//*[@id=\"ctl00_CPH1_RptHistory_ctl04_TD0\"]' ) ) )\n",
    "                come_back_button.click()\n",
    "\n",
    "            except Exception as e:\n",
    "                \n",
    "                print( f'Error at index { index }: { e }\\n' )\n",
    "                f.write( f'Error at index: { index }: { e }\\n' )\n",
    "                continue\n",
    "\n",
    "    driver.quit()"
   ]
  },
  {
   "cell_type": "markdown",
   "id": "f76d1ee3-a238-4396-90be-8d23b27ce9eb",
   "metadata": {},
   "source": [
    "Now, we can use our function by specifying the necessary parameters."
   ]
  },
  {
   "cell_type": "code",
   "execution_count": 58,
   "id": "193f0a81-17d4-4507-bd85-8f00e9275d3e",
   "metadata": {},
   "outputs": [],
   "source": [
    "path_siaf_complete = path_siaf + '/complete'\n",
    "os.makedirs( path_siaf_complete, exist_ok = True )"
   ]
  },
  {
   "cell_type": "code",
   "execution_count": 63,
   "id": "febf8b7f-5b19-4570-87fc-29770dff39ed",
   "metadata": {
    "collapsed": true,
    "jupyter": {
     "outputs_hidden": true
    }
   },
   "outputs": [
    {
     "name": "stdout",
     "output_type": "stream",
     "text": [
      "Extracted:  MUNICIPALIDAD PROVINCIAL DE CHACHAPOYAS\n",
      "\n",
      "Extracted:  MUNICIPALIDAD DISTRITAL DE ASUNCION\n",
      "\n",
      "Extracted:  MUNICIPALIDAD DISTRITAL DE BALSAS\n",
      "\n",
      "Extracted:  MUNICIPALIDAD DISTRITAL DE CHETO\n",
      "\n",
      "Extracted:  MUNICIPALIDAD DISTRITAL DE CHILIQUIN\n",
      "\n",
      "Extracted:  MUNICIPALIDAD DISTRITAL DE CHUQUIBAMBA\n",
      "\n",
      "Extracted:  MUNICIPALIDAD DISTRITAL DE GRANADA\n",
      "\n",
      "Extracted:  MUNICIPALIDAD DISTRITAL DE HUANCAS\n",
      "\n"
     ]
    },
    {
     "ename": "KeyboardInterrupt",
     "evalue": "",
     "output_type": "error",
     "traceback": [
      "\u001b[1;31m---------------------------------------------------------------------------\u001b[0m",
      "\u001b[1;31mKeyboardInterrupt\u001b[0m                         Traceback (most recent call last)",
      "Cell \u001b[1;32mIn[63], line 6\u001b[0m\n\u001b[0;32m      3\u001b[0m activity_type \u001b[38;5;241m=\u001b[39m \u001b[38;5;124m'\u001b[39m\u001b[38;5;124mActividades y proyectos\u001b[39m\u001b[38;5;124m'\u001b[39m\n\u001b[0;32m      4\u001b[0m path          \u001b[38;5;241m=\u001b[39m  path_siaf_complete\n\u001b[1;32m----> 6\u001b[0m siaf_scraper( year, spending_type, activity_type, path )\n",
      "Cell \u001b[1;32mIn[57], line 73\u001b[0m, in \u001b[0;36msiaf_scraper\u001b[1;34m(year, spending_type, activity_type, path)\u001b[0m\n\u001b[0;32m     70\u001b[0m entity_button\u001b[38;5;241m.\u001b[39mclick()\n\u001b[0;32m     72\u001b[0m spending_type_button \u001b[38;5;241m=\u001b[39m wait\u001b[38;5;241m.\u001b[39muntil( EC\u001b[38;5;241m.\u001b[39melement_to_be_clickable( ( By\u001b[38;5;241m.\u001b[39mXPATH, xpath ) ) )\n\u001b[1;32m---> 73\u001b[0m spending_type_button\u001b[38;5;241m.\u001b[39mclick()\n\u001b[0;32m     75\u001b[0m headers_elements_r0 \u001b[38;5;241m=\u001b[39m wait\u001b[38;5;241m.\u001b[39muntil( EC\u001b[38;5;241m.\u001b[39mpresence_of_element_located( ( By\u001b[38;5;241m.\u001b[39mXPATH, \u001b[38;5;124m'\u001b[39m\u001b[38;5;124m//*[@id=\u001b[39m\u001b[38;5;124m\"\u001b[39m\u001b[38;5;124mctl00_CPH1_Mt0_Row0\u001b[39m\u001b[38;5;124m\"\u001b[39m\u001b[38;5;124m]\u001b[39m\u001b[38;5;124m'\u001b[39m ) ) )\u001b[38;5;241m.\u001b[39mfind_elements( By\u001b[38;5;241m.\u001b[39mTAG_NAME, \u001b[38;5;124m'\u001b[39m\u001b[38;5;124mtd\u001b[39m\u001b[38;5;124m'\u001b[39m )\n\u001b[0;32m     76\u001b[0m headers_elements_r1 \u001b[38;5;241m=\u001b[39m wait\u001b[38;5;241m.\u001b[39muntil( EC\u001b[38;5;241m.\u001b[39mpresence_of_element_located( ( By\u001b[38;5;241m.\u001b[39mXPATH, \u001b[38;5;124m'\u001b[39m\u001b[38;5;124m//*[@id=\u001b[39m\u001b[38;5;124m\"\u001b[39m\u001b[38;5;124mctl00_CPH1_Mt0_Row1\u001b[39m\u001b[38;5;124m\"\u001b[39m\u001b[38;5;124m]\u001b[39m\u001b[38;5;124m'\u001b[39m ) ) )\u001b[38;5;241m.\u001b[39mfind_elements( By\u001b[38;5;241m.\u001b[39mTAG_NAME, \u001b[38;5;124m'\u001b[39m\u001b[38;5;124mtd\u001b[39m\u001b[38;5;124m'\u001b[39m )\n",
      "File \u001b[1;32m~\\anaconda3\\envs\\ws\\Lib\\site-packages\\selenium\\webdriver\\remote\\webelement.py:94\u001b[0m, in \u001b[0;36mWebElement.click\u001b[1;34m(self)\u001b[0m\n\u001b[0;32m     92\u001b[0m \u001b[38;5;28;01mdef\u001b[39;00m \u001b[38;5;21mclick\u001b[39m(\u001b[38;5;28mself\u001b[39m) \u001b[38;5;241m-\u001b[39m\u001b[38;5;241m>\u001b[39m \u001b[38;5;28;01mNone\u001b[39;00m:\n\u001b[0;32m     93\u001b[0m \u001b[38;5;250m    \u001b[39m\u001b[38;5;124;03m\"\"\"Clicks the element.\"\"\"\u001b[39;00m\n\u001b[1;32m---> 94\u001b[0m     \u001b[38;5;28mself\u001b[39m\u001b[38;5;241m.\u001b[39m_execute(Command\u001b[38;5;241m.\u001b[39mCLICK_ELEMENT)\n",
      "File \u001b[1;32m~\\anaconda3\\envs\\ws\\Lib\\site-packages\\selenium\\webdriver\\remote\\webelement.py:395\u001b[0m, in \u001b[0;36mWebElement._execute\u001b[1;34m(self, command, params)\u001b[0m\n\u001b[0;32m    393\u001b[0m     params \u001b[38;5;241m=\u001b[39m {}\n\u001b[0;32m    394\u001b[0m params[\u001b[38;5;124m\"\u001b[39m\u001b[38;5;124mid\u001b[39m\u001b[38;5;124m\"\u001b[39m] \u001b[38;5;241m=\u001b[39m \u001b[38;5;28mself\u001b[39m\u001b[38;5;241m.\u001b[39m_id\n\u001b[1;32m--> 395\u001b[0m \u001b[38;5;28;01mreturn\u001b[39;00m \u001b[38;5;28mself\u001b[39m\u001b[38;5;241m.\u001b[39m_parent\u001b[38;5;241m.\u001b[39mexecute(command, params)\n",
      "File \u001b[1;32m~\\anaconda3\\envs\\ws\\Lib\\site-packages\\selenium\\webdriver\\remote\\webdriver.py:346\u001b[0m, in \u001b[0;36mWebDriver.execute\u001b[1;34m(self, driver_command, params)\u001b[0m\n\u001b[0;32m    343\u001b[0m     \u001b[38;5;28;01melif\u001b[39;00m \u001b[38;5;124m\"\u001b[39m\u001b[38;5;124msessionId\u001b[39m\u001b[38;5;124m\"\u001b[39m \u001b[38;5;129;01mnot\u001b[39;00m \u001b[38;5;129;01min\u001b[39;00m params:\n\u001b[0;32m    344\u001b[0m         params[\u001b[38;5;124m\"\u001b[39m\u001b[38;5;124msessionId\u001b[39m\u001b[38;5;124m\"\u001b[39m] \u001b[38;5;241m=\u001b[39m \u001b[38;5;28mself\u001b[39m\u001b[38;5;241m.\u001b[39msession_id\n\u001b[1;32m--> 346\u001b[0m response \u001b[38;5;241m=\u001b[39m \u001b[38;5;28mself\u001b[39m\u001b[38;5;241m.\u001b[39mcommand_executor\u001b[38;5;241m.\u001b[39mexecute(driver_command, params)\n\u001b[0;32m    347\u001b[0m \u001b[38;5;28;01mif\u001b[39;00m response:\n\u001b[0;32m    348\u001b[0m     \u001b[38;5;28mself\u001b[39m\u001b[38;5;241m.\u001b[39merror_handler\u001b[38;5;241m.\u001b[39mcheck_response(response)\n",
      "File \u001b[1;32m~\\anaconda3\\envs\\ws\\Lib\\site-packages\\selenium\\webdriver\\remote\\remote_connection.py:300\u001b[0m, in \u001b[0;36mRemoteConnection.execute\u001b[1;34m(self, command, params)\u001b[0m\n\u001b[0;32m    298\u001b[0m data \u001b[38;5;241m=\u001b[39m utils\u001b[38;5;241m.\u001b[39mdump_json(params)\n\u001b[0;32m    299\u001b[0m url \u001b[38;5;241m=\u001b[39m \u001b[38;5;124mf\u001b[39m\u001b[38;5;124m\"\u001b[39m\u001b[38;5;132;01m{\u001b[39;00m\u001b[38;5;28mself\u001b[39m\u001b[38;5;241m.\u001b[39m_url\u001b[38;5;132;01m}\u001b[39;00m\u001b[38;5;132;01m{\u001b[39;00mpath\u001b[38;5;132;01m}\u001b[39;00m\u001b[38;5;124m\"\u001b[39m\n\u001b[1;32m--> 300\u001b[0m \u001b[38;5;28;01mreturn\u001b[39;00m \u001b[38;5;28mself\u001b[39m\u001b[38;5;241m.\u001b[39m_request(command_info[\u001b[38;5;241m0\u001b[39m], url, body\u001b[38;5;241m=\u001b[39mdata)\n",
      "File \u001b[1;32m~\\anaconda3\\envs\\ws\\Lib\\site-packages\\selenium\\webdriver\\remote\\remote_connection.py:321\u001b[0m, in \u001b[0;36mRemoteConnection._request\u001b[1;34m(self, method, url, body)\u001b[0m\n\u001b[0;32m    318\u001b[0m     body \u001b[38;5;241m=\u001b[39m \u001b[38;5;28;01mNone\u001b[39;00m\n\u001b[0;32m    320\u001b[0m \u001b[38;5;28;01mif\u001b[39;00m \u001b[38;5;28mself\u001b[39m\u001b[38;5;241m.\u001b[39mkeep_alive:\n\u001b[1;32m--> 321\u001b[0m     response \u001b[38;5;241m=\u001b[39m \u001b[38;5;28mself\u001b[39m\u001b[38;5;241m.\u001b[39m_conn\u001b[38;5;241m.\u001b[39mrequest(method, url, body\u001b[38;5;241m=\u001b[39mbody, headers\u001b[38;5;241m=\u001b[39mheaders)\n\u001b[0;32m    322\u001b[0m     statuscode \u001b[38;5;241m=\u001b[39m response\u001b[38;5;241m.\u001b[39mstatus\n\u001b[0;32m    323\u001b[0m \u001b[38;5;28;01melse\u001b[39;00m:\n",
      "File \u001b[1;32m~\\anaconda3\\envs\\ws\\Lib\\site-packages\\urllib3\\request.py:81\u001b[0m, in \u001b[0;36mRequestMethods.request\u001b[1;34m(self, method, url, fields, headers, **urlopen_kw)\u001b[0m\n\u001b[0;32m     77\u001b[0m     \u001b[38;5;28;01mreturn\u001b[39;00m \u001b[38;5;28mself\u001b[39m\u001b[38;5;241m.\u001b[39mrequest_encode_url(\n\u001b[0;32m     78\u001b[0m         method, url, fields\u001b[38;5;241m=\u001b[39mfields, headers\u001b[38;5;241m=\u001b[39mheaders, \u001b[38;5;241m*\u001b[39m\u001b[38;5;241m*\u001b[39murlopen_kw\n\u001b[0;32m     79\u001b[0m     )\n\u001b[0;32m     80\u001b[0m \u001b[38;5;28;01melse\u001b[39;00m:\n\u001b[1;32m---> 81\u001b[0m     \u001b[38;5;28;01mreturn\u001b[39;00m \u001b[38;5;28mself\u001b[39m\u001b[38;5;241m.\u001b[39mrequest_encode_body(\n\u001b[0;32m     82\u001b[0m         method, url, fields\u001b[38;5;241m=\u001b[39mfields, headers\u001b[38;5;241m=\u001b[39mheaders, \u001b[38;5;241m*\u001b[39m\u001b[38;5;241m*\u001b[39murlopen_kw\n\u001b[0;32m     83\u001b[0m     )\n",
      "File \u001b[1;32m~\\anaconda3\\envs\\ws\\Lib\\site-packages\\urllib3\\request.py:173\u001b[0m, in \u001b[0;36mRequestMethods.request_encode_body\u001b[1;34m(self, method, url, fields, headers, encode_multipart, multipart_boundary, **urlopen_kw)\u001b[0m\n\u001b[0;32m    170\u001b[0m extra_kw[\u001b[38;5;124m\"\u001b[39m\u001b[38;5;124mheaders\u001b[39m\u001b[38;5;124m\"\u001b[39m]\u001b[38;5;241m.\u001b[39mupdate(headers)\n\u001b[0;32m    171\u001b[0m extra_kw\u001b[38;5;241m.\u001b[39mupdate(urlopen_kw)\n\u001b[1;32m--> 173\u001b[0m \u001b[38;5;28;01mreturn\u001b[39;00m \u001b[38;5;28mself\u001b[39m\u001b[38;5;241m.\u001b[39murlopen(method, url, \u001b[38;5;241m*\u001b[39m\u001b[38;5;241m*\u001b[39mextra_kw)\n",
      "File \u001b[1;32m~\\anaconda3\\envs\\ws\\Lib\\site-packages\\urllib3\\poolmanager.py:376\u001b[0m, in \u001b[0;36mPoolManager.urlopen\u001b[1;34m(self, method, url, redirect, **kw)\u001b[0m\n\u001b[0;32m    374\u001b[0m     response \u001b[38;5;241m=\u001b[39m conn\u001b[38;5;241m.\u001b[39murlopen(method, url, \u001b[38;5;241m*\u001b[39m\u001b[38;5;241m*\u001b[39mkw)\n\u001b[0;32m    375\u001b[0m \u001b[38;5;28;01melse\u001b[39;00m:\n\u001b[1;32m--> 376\u001b[0m     response \u001b[38;5;241m=\u001b[39m conn\u001b[38;5;241m.\u001b[39murlopen(method, u\u001b[38;5;241m.\u001b[39mrequest_uri, \u001b[38;5;241m*\u001b[39m\u001b[38;5;241m*\u001b[39mkw)\n\u001b[0;32m    378\u001b[0m redirect_location \u001b[38;5;241m=\u001b[39m redirect \u001b[38;5;129;01mand\u001b[39;00m response\u001b[38;5;241m.\u001b[39mget_redirect_location()\n\u001b[0;32m    379\u001b[0m \u001b[38;5;28;01mif\u001b[39;00m \u001b[38;5;129;01mnot\u001b[39;00m redirect_location:\n",
      "File \u001b[1;32m~\\anaconda3\\envs\\ws\\Lib\\site-packages\\urllib3\\connectionpool.py:715\u001b[0m, in \u001b[0;36mHTTPConnectionPool.urlopen\u001b[1;34m(self, method, url, body, headers, retries, redirect, assert_same_host, timeout, pool_timeout, release_conn, chunked, body_pos, **response_kw)\u001b[0m\n\u001b[0;32m    712\u001b[0m     \u001b[38;5;28mself\u001b[39m\u001b[38;5;241m.\u001b[39m_prepare_proxy(conn)\n\u001b[0;32m    714\u001b[0m \u001b[38;5;66;03m# Make the request on the httplib connection object.\u001b[39;00m\n\u001b[1;32m--> 715\u001b[0m httplib_response \u001b[38;5;241m=\u001b[39m \u001b[38;5;28mself\u001b[39m\u001b[38;5;241m.\u001b[39m_make_request(\n\u001b[0;32m    716\u001b[0m     conn,\n\u001b[0;32m    717\u001b[0m     method,\n\u001b[0;32m    718\u001b[0m     url,\n\u001b[0;32m    719\u001b[0m     timeout\u001b[38;5;241m=\u001b[39mtimeout_obj,\n\u001b[0;32m    720\u001b[0m     body\u001b[38;5;241m=\u001b[39mbody,\n\u001b[0;32m    721\u001b[0m     headers\u001b[38;5;241m=\u001b[39mheaders,\n\u001b[0;32m    722\u001b[0m     chunked\u001b[38;5;241m=\u001b[39mchunked,\n\u001b[0;32m    723\u001b[0m )\n\u001b[0;32m    725\u001b[0m \u001b[38;5;66;03m# If we're going to release the connection in ``finally:``, then\u001b[39;00m\n\u001b[0;32m    726\u001b[0m \u001b[38;5;66;03m# the response doesn't need to know about the connection. Otherwise\u001b[39;00m\n\u001b[0;32m    727\u001b[0m \u001b[38;5;66;03m# it will also try to release it and we'll have a double-release\u001b[39;00m\n\u001b[0;32m    728\u001b[0m \u001b[38;5;66;03m# mess.\u001b[39;00m\n\u001b[0;32m    729\u001b[0m response_conn \u001b[38;5;241m=\u001b[39m conn \u001b[38;5;28;01mif\u001b[39;00m \u001b[38;5;129;01mnot\u001b[39;00m release_conn \u001b[38;5;28;01melse\u001b[39;00m \u001b[38;5;28;01mNone\u001b[39;00m\n",
      "File \u001b[1;32m~\\anaconda3\\envs\\ws\\Lib\\site-packages\\urllib3\\connectionpool.py:467\u001b[0m, in \u001b[0;36mHTTPConnectionPool._make_request\u001b[1;34m(self, conn, method, url, timeout, chunked, **httplib_request_kw)\u001b[0m\n\u001b[0;32m    462\u001b[0m             httplib_response \u001b[38;5;241m=\u001b[39m conn\u001b[38;5;241m.\u001b[39mgetresponse()\n\u001b[0;32m    463\u001b[0m         \u001b[38;5;28;01mexcept\u001b[39;00m \u001b[38;5;167;01mBaseException\u001b[39;00m \u001b[38;5;28;01mas\u001b[39;00m e:\n\u001b[0;32m    464\u001b[0m             \u001b[38;5;66;03m# Remove the TypeError from the exception chain in\u001b[39;00m\n\u001b[0;32m    465\u001b[0m             \u001b[38;5;66;03m# Python 3 (including for exceptions like SystemExit).\u001b[39;00m\n\u001b[0;32m    466\u001b[0m             \u001b[38;5;66;03m# Otherwise it looks like a bug in the code.\u001b[39;00m\n\u001b[1;32m--> 467\u001b[0m             six\u001b[38;5;241m.\u001b[39mraise_from(e, \u001b[38;5;28;01mNone\u001b[39;00m)\n\u001b[0;32m    468\u001b[0m \u001b[38;5;28;01mexcept\u001b[39;00m (SocketTimeout, BaseSSLError, SocketError) \u001b[38;5;28;01mas\u001b[39;00m e:\n\u001b[0;32m    469\u001b[0m     \u001b[38;5;28mself\u001b[39m\u001b[38;5;241m.\u001b[39m_raise_timeout(err\u001b[38;5;241m=\u001b[39me, url\u001b[38;5;241m=\u001b[39murl, timeout_value\u001b[38;5;241m=\u001b[39mread_timeout)\n",
      "File \u001b[1;32m<string>:3\u001b[0m, in \u001b[0;36mraise_from\u001b[1;34m(value, from_value)\u001b[0m\n",
      "File \u001b[1;32m~\\anaconda3\\envs\\ws\\Lib\\site-packages\\urllib3\\connectionpool.py:462\u001b[0m, in \u001b[0;36mHTTPConnectionPool._make_request\u001b[1;34m(self, conn, method, url, timeout, chunked, **httplib_request_kw)\u001b[0m\n\u001b[0;32m    459\u001b[0m \u001b[38;5;28;01mexcept\u001b[39;00m \u001b[38;5;167;01mTypeError\u001b[39;00m:\n\u001b[0;32m    460\u001b[0m     \u001b[38;5;66;03m# Python 3\u001b[39;00m\n\u001b[0;32m    461\u001b[0m     \u001b[38;5;28;01mtry\u001b[39;00m:\n\u001b[1;32m--> 462\u001b[0m         httplib_response \u001b[38;5;241m=\u001b[39m conn\u001b[38;5;241m.\u001b[39mgetresponse()\n\u001b[0;32m    463\u001b[0m     \u001b[38;5;28;01mexcept\u001b[39;00m \u001b[38;5;167;01mBaseException\u001b[39;00m \u001b[38;5;28;01mas\u001b[39;00m e:\n\u001b[0;32m    464\u001b[0m         \u001b[38;5;66;03m# Remove the TypeError from the exception chain in\u001b[39;00m\n\u001b[0;32m    465\u001b[0m         \u001b[38;5;66;03m# Python 3 (including for exceptions like SystemExit).\u001b[39;00m\n\u001b[0;32m    466\u001b[0m         \u001b[38;5;66;03m# Otherwise it looks like a bug in the code.\u001b[39;00m\n\u001b[0;32m    467\u001b[0m         six\u001b[38;5;241m.\u001b[39mraise_from(e, \u001b[38;5;28;01mNone\u001b[39;00m)\n",
      "File \u001b[1;32m~\\anaconda3\\envs\\ws\\Lib\\http\\client.py:1378\u001b[0m, in \u001b[0;36mHTTPConnection.getresponse\u001b[1;34m(self)\u001b[0m\n\u001b[0;32m   1376\u001b[0m \u001b[38;5;28;01mtry\u001b[39;00m:\n\u001b[0;32m   1377\u001b[0m     \u001b[38;5;28;01mtry\u001b[39;00m:\n\u001b[1;32m-> 1378\u001b[0m         response\u001b[38;5;241m.\u001b[39mbegin()\n\u001b[0;32m   1379\u001b[0m     \u001b[38;5;28;01mexcept\u001b[39;00m \u001b[38;5;167;01mConnectionError\u001b[39;00m:\n\u001b[0;32m   1380\u001b[0m         \u001b[38;5;28mself\u001b[39m\u001b[38;5;241m.\u001b[39mclose()\n",
      "File \u001b[1;32m~\\anaconda3\\envs\\ws\\Lib\\http\\client.py:318\u001b[0m, in \u001b[0;36mHTTPResponse.begin\u001b[1;34m(self)\u001b[0m\n\u001b[0;32m    316\u001b[0m \u001b[38;5;66;03m# read until we get a non-100 response\u001b[39;00m\n\u001b[0;32m    317\u001b[0m \u001b[38;5;28;01mwhile\u001b[39;00m \u001b[38;5;28;01mTrue\u001b[39;00m:\n\u001b[1;32m--> 318\u001b[0m     version, status, reason \u001b[38;5;241m=\u001b[39m \u001b[38;5;28mself\u001b[39m\u001b[38;5;241m.\u001b[39m_read_status()\n\u001b[0;32m    319\u001b[0m     \u001b[38;5;28;01mif\u001b[39;00m status \u001b[38;5;241m!=\u001b[39m CONTINUE:\n\u001b[0;32m    320\u001b[0m         \u001b[38;5;28;01mbreak\u001b[39;00m\n",
      "File \u001b[1;32m~\\anaconda3\\envs\\ws\\Lib\\http\\client.py:279\u001b[0m, in \u001b[0;36mHTTPResponse._read_status\u001b[1;34m(self)\u001b[0m\n\u001b[0;32m    278\u001b[0m \u001b[38;5;28;01mdef\u001b[39;00m \u001b[38;5;21m_read_status\u001b[39m(\u001b[38;5;28mself\u001b[39m):\n\u001b[1;32m--> 279\u001b[0m     line \u001b[38;5;241m=\u001b[39m \u001b[38;5;28mstr\u001b[39m(\u001b[38;5;28mself\u001b[39m\u001b[38;5;241m.\u001b[39mfp\u001b[38;5;241m.\u001b[39mreadline(_MAXLINE \u001b[38;5;241m+\u001b[39m \u001b[38;5;241m1\u001b[39m), \u001b[38;5;124m\"\u001b[39m\u001b[38;5;124miso-8859-1\u001b[39m\u001b[38;5;124m\"\u001b[39m)\n\u001b[0;32m    280\u001b[0m     \u001b[38;5;28;01mif\u001b[39;00m \u001b[38;5;28mlen\u001b[39m(line) \u001b[38;5;241m>\u001b[39m _MAXLINE:\n\u001b[0;32m    281\u001b[0m         \u001b[38;5;28;01mraise\u001b[39;00m LineTooLong(\u001b[38;5;124m\"\u001b[39m\u001b[38;5;124mstatus line\u001b[39m\u001b[38;5;124m\"\u001b[39m)\n",
      "File \u001b[1;32m~\\anaconda3\\envs\\ws\\Lib\\socket.py:706\u001b[0m, in \u001b[0;36mSocketIO.readinto\u001b[1;34m(self, b)\u001b[0m\n\u001b[0;32m    704\u001b[0m \u001b[38;5;28;01mwhile\u001b[39;00m \u001b[38;5;28;01mTrue\u001b[39;00m:\n\u001b[0;32m    705\u001b[0m     \u001b[38;5;28;01mtry\u001b[39;00m:\n\u001b[1;32m--> 706\u001b[0m         \u001b[38;5;28;01mreturn\u001b[39;00m \u001b[38;5;28mself\u001b[39m\u001b[38;5;241m.\u001b[39m_sock\u001b[38;5;241m.\u001b[39mrecv_into(b)\n\u001b[0;32m    707\u001b[0m     \u001b[38;5;28;01mexcept\u001b[39;00m timeout:\n\u001b[0;32m    708\u001b[0m         \u001b[38;5;28mself\u001b[39m\u001b[38;5;241m.\u001b[39m_timeout_occurred \u001b[38;5;241m=\u001b[39m \u001b[38;5;28;01mTrue\u001b[39;00m\n",
      "\u001b[1;31mKeyboardInterrupt\u001b[0m: "
     ]
    }
   ],
   "source": [
    "year          = '2021'\n",
    "spending_type = 'Categoría Presupuestal'\n",
    "activity_type = 'Actividades y proyectos'\n",
    "path          =  path_siaf_complete\n",
    "\n",
    "siaf_scraper( year, spending_type, activity_type, path )"
   ]
  },
  {
   "cell_type": "code",
   "execution_count": 62,
   "id": "dd7eb556-c6ed-466c-9036-f8461fbe5255",
   "metadata": {},
   "outputs": [],
   "source": [
    "# driver.quit()"
   ]
  },
  {
   "cell_type": "markdown",
   "id": "54d620b1-106c-44b6-8449-812c35d51c2b",
   "metadata": {},
   "source": [
    "Also, we can iterate through the years to access the information"
   ]
  },
  {
   "cell_type": "code",
   "execution_count": 173,
   "id": "7f8ba8c8-49c5-472a-ba82-91bd9dc38296",
   "metadata": {},
   "outputs": [],
   "source": [
    "# years_list = np.arange( 2015, 2021, 1 )\n",
    "\n",
    "# for year in years_list:\n",
    "    \n",
    "#     spending_type = 'Función'\n",
    "#     activity_type = 'Actividades y proyectos'\n",
    "#     path          = path_siaf_complete   \n",
    "#     siaf_scraper( year, spending_type, activity_type, path )"
   ]
  },
  {
   "cell_type": "code",
   "execution_count": 21,
   "id": "20c87449-5787-43c1-b9c1-f304409b1044",
   "metadata": {},
   "outputs": [],
   "source": [
    "# Libraries template\n",
    "\n",
    "# Selenium\n",
    "from selenium import webdriver\n",
    "from webdriver_manager.chrome import ChromeDriverManager\n",
    "from selenium.webdriver.chrome.service import Service\n",
    "from selenium.webdriver.common.action_chains import ActionChains\n",
    "\n",
    "# Options driver\n",
    "from selenium.webdriver.chrome.options import Options\n",
    "from selenium.webdriver.support.ui import Select\n",
    "\n",
    "# Dataframes\n",
    "import pandas as pd\n",
    "import itertools\n",
    "import os\n",
    "\n",
    "# Simulating human behavior\n",
    "import time\n",
    "from time import sleep\n",
    "import random\n",
    "\n",
    "# Clear data\n",
    "import unidecode\n",
    "\n",
    "# Json files\n",
    "import json\n",
    "import re\n",
    "import numpy as np\n",
    "import itertools\n",
    "from pandas import json_normalize\n",
    "\n",
    "# To use explicit waits\n",
    "from selenium.webdriver.common.by import By\n",
    "from selenium.webdriver.support.ui import WebDriverWait\n",
    "from selenium.webdriver.support import expected_conditions as EC\n",
    "\n",
    "# Download files\n",
    "import urllib.request\n",
    "import requests\n",
    "from openpyxl import Workbook\n",
    "\n",
    "# # pytesseract\n",
    "# from PIL import Image\n",
    "# from io import BytesIO\n",
    "# import pytesseract\n",
    "# pytesseract.pytesseract.tesseract_cmd = r\"C:\\Program Files\\Tesseract-OCR\\tesseract.exe\""
   ]
  }
 ],
 "metadata": {
  "kernelspec": {
   "display_name": "Python 3 (ipykernel)",
   "language": "python",
   "name": "python3"
  },
  "language_info": {
   "codemirror_mode": {
    "name": "ipython",
    "version": 3
   },
   "file_extension": ".py",
   "mimetype": "text/x-python",
   "name": "python",
   "nbconvert_exporter": "python",
   "pygments_lexer": "ipython3",
   "version": "3.11.10"
  }
 },
 "nbformat": 4,
 "nbformat_minor": 5
}
